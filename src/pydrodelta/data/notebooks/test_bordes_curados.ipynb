{
 "cells": [
  {
   "cell_type": "markdown",
   "metadata": {},
   "source": [
    "### test analysis module"
   ]
  },
  {
   "cell_type": "code",
   "execution_count": 10,
   "metadata": {},
   "outputs": [],
   "source": [
    "os.getcwd()\n",
    "import pydrodelta.analysis \n",
    "import json\n",
    "import matplotlib.pyplot as plt\n"
   ]
  },
  {
   "cell_type": "markdown",
   "metadata": {},
   "source": [
    "#### instantiate Topology class from config file (.xml)"
   ]
  },
  {
   "cell_type": "code",
   "execution_count": 11,
   "metadata": {},
   "outputs": [
    {
     "data": {
      "text/plain": [
       "<pydrodelta.analysis.Topology at 0x7f00a5e37c70>"
      ]
     },
     "execution_count": 11,
     "metadata": {},
     "output_type": "execute_result"
    }
   ],
   "source": [
    "t_config = json.load(open(\"pydrodelta_config/288_bordes_curados.json\"))\n",
    "topology = pydrodelta.analysis.Topology(t_config)\n",
    "topology"
   ]
  },
  {
   "cell_type": "markdown",
   "metadata": {},
   "source": [
    "#### batch process"
   ]
  },
  {
   "cell_type": "code",
   "execution_count": 3,
   "metadata": {},
   "outputs": [],
   "source": [
    "topology.batchProcessInput()"
   ]
  },
  {
   "cell_type": "markdown",
   "metadata": {},
   "source": [
    "#### save into file (csv, json)"
   ]
  },
  {
   "cell_type": "code",
   "execution_count": 4,
   "metadata": {},
   "outputs": [],
   "source": [
    "topology.saveData(\"tmp/288_bordes_curados.csv\")\n",
    "topology.saveData(\"tmp/288_bordes_curados.json\",format=\"json\")"
   ]
  },
  {
   "cell_type": "markdown",
   "metadata": {},
   "source": [
    "#### pivot node"
   ]
  },
  {
   "cell_type": "code",
   "execution_count": null,
   "metadata": {},
   "outputs": [],
   "source": [
    "pivoted_boundary = topology.nodes[0].pivotData()\n",
    "topology.nodes[0].saveSeries(\"tmp/node_pivot.csv\",pivot=True)\n",
    "pivoted_boundary"
   ]
  },
  {
   "cell_type": "markdown",
   "metadata": {},
   "source": [
    "#### save pivot topology"
   ]
  },
  {
   "cell_type": "code",
   "execution_count": 8,
   "metadata": {},
   "outputs": [],
   "source": [
    "pivoted = topology.pivotData()\n",
    "pivot_json_data = topology.toList(True)\n",
    "pivot_csv_data = topology.toCSV(True)\n",
    "topology.saveData(\"tmp/288_bordes_curados_pivot.csv\",pivot=True)\n",
    "topology.saveData(\"tmp/288_bordes_curados_pivot.json\",format=\"json\",pivot=True)"
   ]
  },
  {
   "cell_type": "markdown",
   "metadata": {},
   "source": [
    "#### upload results"
   ]
  },
  {
   "cell_type": "code",
   "execution_count": 9,
   "metadata": {},
   "outputs": [
    {
     "data": {
      "text/plain": [
       "19513"
      ]
     },
     "execution_count": 9,
     "metadata": {},
     "output_type": "execute_result"
    }
   ],
   "source": [
    "uploaded = topology.uploadData()\n",
    "len(uploaded)"
   ]
  },
  {
   "cell_type": "markdown",
   "metadata": {},
   "source": [
    "#### plot node"
   ]
  },
  {
   "cell_type": "code",
   "execution_count": null,
   "metadata": {},
   "outputs": [],
   "source": [
    "topology.nodes[3].plot()"
   ]
  },
  {
   "cell_type": "code",
   "execution_count": 18,
   "metadata": {},
   "outputs": [],
   "source": [
    "node = topology.nodes[0]"
   ]
  },
  {
   "cell_type": "code",
   "execution_count": 20,
   "metadata": {},
   "outputs": [],
   "source": [
    "uploaded = node.uploadData()"
   ]
  },
  {
   "cell_type": "code",
   "execution_count": 21,
   "metadata": {},
   "outputs": [
    {
     "data": {
      "text/plain": [
       "1485"
      ]
     },
     "execution_count": 21,
     "metadata": {},
     "output_type": "execute_result"
    }
   ],
   "source": [
    "len(uploaded)"
   ]
  },
  {
   "cell_type": "code",
   "execution_count": 14,
   "metadata": {},
   "outputs": [
    {
     "data": {
      "text/plain": [
       "[('San Fernando - Stage Hydrograph - 1H', 31554),\n",
       " ('Lujan - Flow Hydrograph - 1D', 31530),\n",
       " ('Paraná - Stage Hydrograph - 1D', 31525),\n",
       " ('Nueva Palmira - Stage Hydrograph -1H', 31555),\n",
       " ('Bravo - Stage Hydrograph - 1H', 31556),\n",
       " ('Sauce - Stage Hydrograph - 1H', 31561),\n",
       " ('BarcaGrande - Stage Hydrograph - 1H', 31562),\n",
       " ('Mini - Stage Hydrograph - 1H', 31558),\n",
       " ('LaBarquita - Stage Hydrograph - 1H', 31568),\n",
       " ('CanaldelEste - Stage Hydrograph - 1H', 31564),\n",
       " ('Lujan Desembocadura - Stage Hydrograph - 1H', 31557),\n",
       " ('SanAntonio - Stage Hydrograph - 1H', 31560),\n",
       " ('Gutierrez - Stage Hydrograph - 1H', 31567),\n",
       " ('Guazu - Stage Hydrograph - 1H', 31566),\n",
       " ('Ibicuy - Flow Hydrograph - 1D', 31570),\n",
       " ('Correntoso - Stage Hydrograph - 1H', 31565)]"
      ]
     },
     "execution_count": 14,
     "metadata": {},
     "output_type": "execute_result"
    }
   ],
   "source": [
    "[ (x[\"name\"], x[\"output_series_id\"]) for x in t_config[\"nodes\"]]"
   ]
  }
 ],
 "metadata": {
  "kernelspec": {
   "display_name": "Python 3.8.10 64-bit",
   "language": "python",
   "name": "python3"
  },
  "language_info": {
   "codemirror_mode": {
    "name": "ipython",
    "version": 3
   },
   "file_extension": ".py",
   "mimetype": "text/x-python",
   "name": "python",
   "nbconvert_exporter": "python",
   "pygments_lexer": "ipython3",
   "version": "3.8.10"
  },
  "orig_nbformat": 4,
  "vscode": {
   "interpreter": {
    "hash": "31f2aee4e71d21fbe5cf8b01ff0e069b9275f58929596ceb00d14d90e3e16cd6"
   }
  }
 },
 "nbformat": 4,
 "nbformat_minor": 2
}
