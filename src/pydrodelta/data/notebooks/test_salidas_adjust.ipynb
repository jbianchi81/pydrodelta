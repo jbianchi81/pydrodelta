<!DOCTYPE html>
<html lang="es">
<head>
<title>INA - Mail :: Entrada</title>
<meta name="viewport" content="" id="viewport" />
<link rel="shortcut icon" href="skins/larry/images/favicon.ico"/>
<link rel="stylesheet" type="text/css" href="skins/larry/styles.min.css?s=1463915207" />
<link rel="stylesheet" type="text/css" href="skins/larry/mail.min.css?s=1463915207" />
<!--[if IE 9]><link rel="stylesheet" type="text/css" href="skins/larry/svggradients.min.css?s=1463915207" /><![endif]-->
<link rel="stylesheet" type="text/css" href="plugins/jqueryui/themes/larry/jquery-ui-1.10.4.custom.css?s=1463915206">
<link rel="stylesheet" type="text/css" href="plugins/help/skins/larry/help.min.css?s=1463915206">
<link rel="stylesheet" type="text/css" href="plugins/libcalendaring/skins/larry/libcal.css?s=1467506406">
<link rel="stylesheet" type="text/css" href="plugins/calendar/skins/larry/calendar.css?s=1467506451">
<link rel="stylesheet" type="text/css" href="plugins/tasklist/skins/larry/tasklist.css?s=1467507076">
<link rel="stylesheet" type="text/css" href="plugins/jqueryui/themes/larry/tagedit.css?s=1463915206">
<link rel="stylesheet" type="text/css" href="plugins/chbox/skins/larry/chbox.css?s=1467507234">
<script type="text/javascript" src="skins/larry/ui.min.js?s=1463915207"></script>
<style type="text/css">
</style>
<meta http-equiv="content-type" content="text/html; charset=UTF-8" />
<script src="program/js/jquery.min.js?s=1463915206" type="text/javascript"></script>
<script src="program/js/common.min.js?s=1463915206" type="text/javascript"></script>
<script src="program/js/app.min.js?s=1463915206" type="text/javascript"></script>
<script src="program/js/treelist.min.js?s=1463915207" type="text/javascript"></script>
<script src="program/js/list.min.js?s=1463915206" type="text/javascript"></script>
<script type="text/javascript">

/*
        @licstart  The following is the entire license notice for the 
        JavaScript code in this page.

        Copyright (C) 2005-2014 The Roundcube Dev Team

        The JavaScript code in this page is free software: you can redistribute
        it and/or modify it under the terms of the GNU General Public License
        as published by the Free Software Foundation, either version 3 of
        the License, or (at your option) any later version.

        The code is distributed WITHOUT ANY WARRANTY; without even the implied
        warranty of MERCHANTABILITY or FITNESS FOR A PARTICULAR PURPOSE.
        See the GNU GPL for more details.

        @licend  The above is the entire license notice
        for the JavaScript code in this page.
*/
var rcmail = new rcube_webmail();
rcmail.set_env({"task":"mail","x_frame_options":"sameorigin","standard_windows":false,"locale":"es_AR","cookie_domain":"","cookie_path":"\/","cookie_secure":true,"skin":"larry","refresh_interval":60,"session_lifetime":21600,"action":"","comm_path":".\/?_task=mail","user_id":"f7c2439a3e2ac44f21d38a738e83a0d2","compose_extwin":false,"ismobile":false,"date_format":"dd\/mm\/yy","vcard_icon":"plugins\/vcard_attachments\/skins\/larry\/vcard.png","help_open_extwin":false,"libcal_settings":{"date_format":"dd\/MM\/yyyy","time_format":"HH:mm","date_short":"d\/M","date_long":"d MMM yyyy","dates_long":"d MMM[ yyyy]{ '&mdash;' d MMM yyyy}","first_day":1,"timezone":-3,"dst":"0","days":["Domingo","Lunes","Martes","Mi\u00e9rcoles","Jueves","Viernes","S\u00e1bado"],"days_short":["Dom","Lun","Mar","Mi\u00e9","Jue","Vie","S\u00e1b"],"months":["Enero","Febrero","Marzo","Abril","Mayo","Junio","Julio","Agosto","Septiembre","Octubre","Noviembre","Diciembre"],"months_short":["Ene","Feb","Mar","Abr","Mayo","Jun","Jul","Ago","Sep","Oct","Nov","Dic"],"today":"Hoy","mimetypes":["text\/plain","text\/html","text\/xml","image\/jpeg","image\/gif","image\/png","image\/bmp","image\/tiff","application\/x-javascript","application\/pdf","application\/x-shockwave-flash"]},"calendar_settings":{"default_calendar":null,"default_view":"agendaWeek","date_agenda":"ddd dd\/MM","timeslots":2,"first_day":1,"first_hour":6,"work_start":6,"work_end":18,"agenda_range":60,"agenda_sections":"smart","event_coloring":0,"time_indicator":1,"invite_shared":0,"invitation_calendars":false,"itip_notify":3},"tasklist_settings":{"invite_shared":0,"itip_notify":3,"sort_col":"","sort_order":"asc","identities":{"61":"jbianchi@ina.gob.ar"},"identity":{"name":"Juan Bianchi","email":"jbianchi@ina.gob.ar","emails":";jbianchi@ina.gob.ar;jbianchi"}},"autocomplete_max":15,"autocomplete_min_length":3,"browser_capabilities":{"pdf":"1","flash":"0","tif":"0"},"search_mods":{"*":{"subject":1,"from":1},"INBOX.Elementos enviados":{"subject":1,"to":1,"body":1},"INBOX.Borrador":{"subject":1,"to":1},"INBOX":{"text":1},"INBOX.Trash":{"subject":1,"from":1},"INBOX.Archives.2017":{"text":1}},"mailbox":"INBOX","pagesize":50,"current_page":1,"delimiter":".","threading":false,"threads":true,"reply_all_mode":0,"preview_pane_mark_read":0,"quota":true,"drafts_mailbox":"INBOX.Borrador","trash_mailbox":"INBOX.Trash","junk_mailbox":"INBOX.Junk","read_when_deleted":true,"display_next":true,"unreadwrap":"%s","collapsed_folders":"","mailboxes":{"INBOX":{"id":"INBOX","name":"Entrada","virtual":false,"class":"inbox"},"INBOX.Borrador":{"id":"INBOX.Borrador","name":"Borradores","virtual":false,"class":"drafts"},"INBOX.Elementos enviados":{"id":"INBOX.Elementos enviados","name":"Enviados","virtual":false,"class":"sent"},"INBOX.Junk":{"id":"INBOX.Junk","name":"Basura","virtual":false,"class":"junk"},"INBOX.Trash":{"id":"INBOX.Trash","name":"Papelera","virtual":false,"class":"trash"},"INBOX.Archives":{"id":"INBOX.Archives","name":"Archives","virtual":false},"INBOX.Archives.2015":{"id":"INBOX.Archives.2015","name":"2015","virtual":false},"INBOX.Archives.2016":{"id":"INBOX.Archives.2016","name":"2016","virtual":false},"INBOX.Archives.2017":{"id":"INBOX.Archives.2017","name":"2017","virtual":false},"INBOX.Drafts":{"id":"INBOX.Drafts","name":"Drafts","virtual":false},"INBOX.Sent":{"id":"INBOX.Sent","name":"Sent","virtual":false},"INBOX.viejo":{"id":"INBOX.viejo","name":"viejo","virtual":false},"INBOX.viejo.2015":{"id":"INBOX.viejo.2015","name":"2015","virtual":false},"INBOX.viejo.2016":{"id":"INBOX.viejo.2016","name":"2016","virtual":false},"INBOX.viejo.2017":{"id":"INBOX.viejo.2017","name":"2017","virtual":false},"INBOX.viejo.2018":{"id":"INBOX.viejo.2018","name":"2018","virtual":false}},"mailboxes_list":["INBOX","INBOX.Borrador","INBOX.Elementos enviados","INBOX.Junk","INBOX.Trash","INBOX.Archives","INBOX.Archives.2015","INBOX.Archives.2016","INBOX.Archives.2017","INBOX.Drafts","INBOX.Sent","INBOX.viejo","INBOX.viejo.2015","INBOX.viejo.2016","INBOX.viejo.2017","INBOX.viejo.2018"],"col_movable":true,"autoexpand_threads":0,"sort_col":"date","sort_order":"DESC","messages":[],"listcols":["threads","subject","status","fromto","date","size","flag","attachment"],"disabled_sort_col":false,"disabled_sort_order":false,"coltypes":{"threads":{"className":"threads","id":"rcmthreads","label":"","sortable":false},"subject":{"className":"subject","id":"rcmsubject","label":"Asunto","sortable":true},"status":{"className":"status","id":"rcmstatus","label":"","sortable":false},"fromto":{"className":"fromto","id":"rcmfromto","label":"Remitente","sortable":true},"date":{"className":"date sortedDESC","id":"rcmdate","label":"Fecha","sortable":true},"size":{"className":"size","id":"rcmsize","label":"Tama\u00f1o","sortable":true},"flag":{"className":"flag","id":"rcmflag","label":"","sortable":false},"attachment":{"className":"attachment","id":"rcmattachment","label":"","sortable":false}},"contentframe":"messagecontframe","blankpage":"skins\/larry\/watermark.html","max_filesize":20971520,"filesizeerror":"El archivo excede el tama\u00f1o maximo (20 MB)","chboxicon":"<img src=\"plugins\/chbox\/skins\/larry\/columncheck.png\" id=\"selectmenulink\" title=\"Selector\" alt=\"Selector\">","request_token":"vjscLYlHZ9uOk7YjduZrZeOEvsObGMrK"});
rcmail.add_label({"loading":"Cargando...","servererror":"\u00a1Error en el servidor!","connerror":"Error de conexi\u00f3n (No se pudo conectar con el servidor)!","requesttimedout":"Tiempo de espera agotado","refreshing":"Actualizando...","windowopenerror":"La ventana emergente ha sido bloqueada!","uploadingmany":"Subiendo archivos...","mobile.mobile":"Vista Mobil","mobile.desktop":"Vista de Escritorio","mobile.pull_to_refresh":"Pull to refresh","mobile.release_to_refresh":"Release to refresh","mobile.slide to delete message":"Slide to delete the message","mobile.release to delete message":"Release to delete the message","mobile.slide to mark as read":"Deslice para marcar como Ledo","mobile.release to mark as read":"Release to mark as read","mobile.slide to mark as unread":"Slide to mark as unread","mobile.release to mark as unread":"Release to mark as unread","markasjunk.buttontext":"Correo no deseado","markasjunk.buttontitle":"Marcar como SPAM","markasjunk.reportedasjunk":"Mensaje reportado como SPAM","newmail_notifier.title":"Correo nuevo!","newmail_notifier.body":"Has recibido correo nuevo","calendar.createfrommail":"Guardar como evento","tasklist.createfrommail":"Guardar como tarea","autocompletechars":"Ingres\u00e1 por lo menos $min caracteres para autocompletar.","autocompletemore":"Se encontraron mas coincidencias. Por favor, escrib\u00ed mas caracteres.","checkingmail":"Verificando si hay nuevos mensajes...","deletemessage":"Eliminar mensaje","movemessagetotrash":"Mover mensaje a la papelera","movingmessage":"Moviendo mensaje...","copyingmessage":"Copiando mensaje...","deletingmessage":"Eliminando contacto(s)...","markingmessage":"Marcando mensaje(s)...","copy":"Copiar","move":"Mover","quota":"Uso de disco","replyall":"Responder a todos","replylist":"Responder a lista","stillsearching":"B\u00fasqueda en progreso...","flagged":"Marcado","unflagged":"No marcado","unread":"Sin leer","deleted":"Eliminado","replied":"Respondido","forwarded":"Reenviado","priority":"Prioridad","withattachment":"Con adjunto","fileuploaderror":"Error al subir archivos","searching":"Buscando...","purgefolderconfirm":"\u00bfRealmente quiere eliminar todos los mensajes de esta carpeta?","deletemessagesconfirm":"\u00bfRealmente quiere eliminar los mensajes seleccionados?","from":"Remitente","to":"Destinatario","selectimportfile":"Por favor, seleccione el archivo a subir","importwait":"Importando, aguarde por favor...","chbox.chbox":"Selector"});
rcmail.gui_container("topline-left","topline-left");
rcmail.gui_container("topline-center","topline-center");
rcmail.gui_container("topline-right","topline-right");
rcmail.gui_container("taskbar","taskbar");
rcmail.gui_container("toolbar","mailtoolbar");
rcmail.gui_container("forwardmenu","forwardmenu-menu");
rcmail.gui_container("replyallmenu","replyallmenu-menu");
rcmail.gui_container("messagemenu","messagemenu-menu");
rcmail.gui_container("markmenu","markmessagemenu-menu");
rcmail.gui_container("listcontrols","listcontrols");
rcmail.gui_container("mailboxoptions","mailboxoptionsmenu");
rcmail.register_button('switch_skin.switch_desktop', 'rcmbtn100', 'link', '', '', '');
rcmail.register_button('switch_skin.switch_mobile', 'rcmbtn101', 'link', '', 'about-link button-selected', '');
rcmail.register_button('plugin.markasjunk', 'rcmbtn102', 'link', 'button junk', '', '');
rcmail.register_button('help', 'rcmbtn103', 'link', '', 'button-help button-selected', '');
rcmail.register_button('calendar', 'rcmbtn104', 'link', '', 'button-calendar button-selected', '');
rcmail.register_button('calendar-create-from-mail', 'rcmbtn105', 'link', 'icon calendarlink active', '', '');
rcmail.register_button('tasklist-create-from-mail', 'rcmbtn106', 'link', 'icon taskaddlink active', '', '');
rcmail.register_button('tasks', 'rcmbtn107', 'link', '', 'button-tasklist button-selected', '');
rcmail.register_button('logout', 'rcmbtn109', 'link', '', '', '');
rcmail.register_button('mail', 'rcmbtn110', 'link', '', 'button-mail button-selected', '');
rcmail.register_button('addressbook', 'rcmbtn111', 'link', '', 'button-addressbook button-selected', '');
rcmail.register_button('settings', 'rcmbtn112', 'link', '', 'button-settings button-selected', '');
rcmail.register_button('logout', 'rcmbtn113', 'link', '', 'button-logout', '');
rcmail.register_button('checkmail', 'rcmbtn114', 'link', 'button checkmail', 'button checkmail pressed', '');
rcmail.register_button('compose', 'rcmbtn115', 'link', 'button compose', 'button compose pressed', '');
rcmail.register_button('reply', 'rcmbtn116', 'link', 'button reply', 'button reply pressed', '');
rcmail.register_button('reply-all', 'rcmbtn117', 'link', 'button reply-all', 'button reply-all pressed', '');
rcmail.register_button('forward', 'rcmbtn118', 'link', 'button forward', 'button forward pressed', '');
rcmail.register_button('delete', 'rcmbtn119', 'link', 'button delete', 'button delete pressed', '');
rcmail.register_button('forward-inline', 'rcmbtn120', 'link', 'forwardlink active', '', '');
rcmail.register_button('forward-attachment', 'rcmbtn121', 'link', 'forwardattachmentlink active', '', '');
rcmail.register_button('reply-all', 'rcmbtn122', 'link', 'replyalllink active', '', '');
rcmail.register_button('reply-list', 'rcmbtn123', 'link', 'replylistlink active', '', '');
rcmail.register_button('print', 'rcmbtn124', 'link', 'icon active', '', '');
rcmail.register_button('download', 'rcmbtn125', 'link', 'icon active', '', '');
rcmail.register_button('edit', 'rcmbtn126', 'link', 'icon active', '', '');
rcmail.register_button('viewsource', 'rcmbtn127', 'link', 'icon active', '', '');
rcmail.register_button('move', 'rcmbtn128', 'link', 'icon active', '', '');
rcmail.register_button('copy', 'rcmbtn129', 'link', 'icon active', '', '');
rcmail.register_button('open', 'rcmbtn130', 'link', 'icon active', '', '');
rcmail.register_button('mark', 'rcmbtn131', 'link', 'icon active', '', '');
rcmail.register_button('mark', 'rcmbtn132', 'link', 'icon active', '', '');
rcmail.register_button('mark', 'rcmbtn133', 'link', 'icon active', '', '');
rcmail.register_button('mark', 'rcmbtn134', 'link', 'icon active', '', '');
rcmail.gui_object('search_filter', 'messagessearchfilter');
rcmail.register_button('menu-open', 'searchmenulink', 'link', '', '', '');
rcmail.gui_object('qsearchbox', 'quicksearchbox');
rcmail.register_button('reset-search', 'searchreset', 'link', '', '', '');
rcmail.gui_object('search_interval', 's_interval');
rcmail.gui_object('mailboxlist', 'mailboxlist');
rcmail.gui_object('quotadisplay', 'quotadisplay');
rcmail.gui_object('messagelist', 'messagelist');
rcmail.register_button('set-listmode', 'maillistmode', 'link', 'iconbutton listmode', '', '');
rcmail.register_button('set-listmode', 'mailthreadmode', 'link', 'iconbutton threadmode', '', '');
rcmail.gui_object('countdisplay', 'rcmcountdisplay');
rcmail.register_button('firstpage', 'rcmbtn135', 'link', 'button firstpage', 'button firstpage pressed', '');
rcmail.register_button('previouspage', 'rcmbtn136', 'link', 'button prevpage', 'button prevpage pressed', '');
rcmail.register_button('nextpage', 'rcmbtn137', 'link', 'button nextpage', 'button nextpage pressed', '');
rcmail.register_button('lastpage', 'rcmbtn138', 'link', 'button lastpage', 'button lastpage pressed', '');
rcmail.register_button('move', 'rcmbtn139', 'link', 'active', '', '');
rcmail.register_button('copy', 'rcmbtn140', 'link', 'active', '', '');
rcmail.register_button('expunge', 'rcmbtn141', 'link', 'active', '', '');
rcmail.register_button('purge', 'rcmbtn142', 'link', 'active', '', '');
rcmail.register_button('import-messages', 'rcmbtn143', 'link', 'active', '', '');
rcmail.register_button('settings.folders', 'rcmbtn144', 'link', 'active', '', '');
rcmail.register_button('select-all', 'rcmbtn145', 'link', 'icon active', '', '');
rcmail.register_button('select-all', 'rcmbtn146', 'link', 'icon active', '', '');
rcmail.register_button('select-all', 'rcmbtn147', 'link', 'icon active', '', '');
rcmail.register_button('select-all', 'rcmbtn148', 'link', 'icon active', '', '');
rcmail.register_button('select-all', 'rcmbtn149', 'link', 'icon active', '', '');
rcmail.register_button('select-none', 'rcmbtn150', 'link', 'icon active', '', '');
rcmail.register_button('expand-all', 'rcmbtn151', 'link', 'icon active', '', '');
rcmail.register_button('expand-unread', 'rcmbtn152', 'link', 'icon active', '', '');
rcmail.register_button('collapse-all', 'rcmbtn153', 'link', 'icon active', '', '');
rcmail.register_button('menu-save', 'listmenusave', 'input', '', '', '');
rcmail.register_button('menu-close', 'listmenucancel', 'input', '', '', '');
rcmail.gui_object('importform', 'uploadformFrm');
rcmail.register_button('import-messages', 'rcmbtn154', 'input', '', '', '');
rcmail.gui_object('message', 'messagestack');
rcmail.gui_object('selectmenu', 'selectmenu');
</script>

<script type="text/javascript" src="plugins/jqueryui/js/jquery-ui-1.10.4.custom.min.js?s=1463915206"></script>
<script type="text/javascript" src="plugins/jqueryui/js/i18n/jquery.ui.datepicker-es.js?s=1463915206"></script>
<script type="text/javascript" src="plugins/markasjunk/markasjunk.min.js?s=1463915206"></script>
<script type="text/javascript" src="plugins/newmail_notifier/newmail_notifier.min.js?s=1463915206"></script>
<script type="text/javascript" src="plugins/vcard_attachments/vcardattach.min.js?s=1463915206"></script>
<script type="text/javascript" src="plugins/chbox/chbox.js?s=1467507234"></script>
<script type="text/javascript" src="plugins/help/help.min.js?s=1463915206"></script>
<script type="text/javascript" src="plugins/libcalendaring/libcalendaring.js?s=1467506406"></script>
<script type="text/javascript" src="plugins/calendar/calendar_base.js?s=1467506451"></script>
<script type="text/javascript" src="plugins/jqueryui/js/jquery.tagedit.js?s=1463915206"></script>
<script type="text/javascript" src="plugins/tasklist/tasklist_base.js?s=1467507076"></script>
</head>
<body class="minwidth">

<div id="header">
<div id="topline" role="banner" aria-labelledby="aria-label-topnav">
	<h2 id="aria-label-topnav" class="voice">Control de ventana</h2>
	<div class="topleft">
		<a class="about-link" id="rcmbtn101" role="button" href="./?_task=switch_skin&amp;_action=switch_mobile"><span class="button-inner">Vista Mobil</span></a>

					<a class="about-link" onclick="UI.show_about(this);return false" id="rcmbtn108" role="button" href="#">Acerca de</a>
					</div>
	
	<div class="topright">
	
			<span class="username">jbianchi@ina.gob.ar</span>
		<a class="button-logout" id="rcmbtn109" role="button" href="./?_task=logout" onclick="return rcmail.command('switch-task','logout',this,event)">Cerrar sesión</a>
	
	</div>
</div>
<div id="topnav">
	<h2 id="aria-label-tasknav" class="voice">Tareas de aplicación</h2>
	<div id="taskbar" class="topright" role="navigation" aria-labelledby="aria-label-tasknav">
		<a class="button-mail" id="rcmbtn110" role="button" href="./?_task=mail" onclick="return rcmail.command('switch-task','mail',this,event)"><span class="button-inner">Correo</span></a>
		<a class="button-addressbook" id="rcmbtn111" role="button" href="./?_task=addressbook" onclick="return rcmail.command('switch-task','addressbook',this,event)"><span class="button-inner">Contactos</span></a>
		<a class="button-help" id="rcmbtn103" role="button" href="./?_task=help" onclick="return rcmail.command('switch-task','help',this,event)"><span class="button-inner">Ayuda</span></a>
<a class="button-calendar" id="rcmbtn104" role="button" href="./?_task=calendar" onclick="return rcmail.command('switch-task','calendar',this,event)"><span class="button-inner">Calendario</span></a>
<a class="button-tasklist" id="rcmbtn107" role="button" href="./?_task=tasks" onclick="return rcmail.command('switch-task','tasks',this,event)"><span class="button-inner">Tareas</span></a>

		<a class="button-settings" id="rcmbtn112" role="button" href="./?_task=settings" onclick="return rcmail.command('switch-task','settings',this,event)"><span class="button-inner">Configuración</span></a>
		<a class="button-logout" id="rcmbtn113" role="button" href="./?_task=logout" onclick="return rcmail.command('switch-task','logout',this,event)"><span class="button-inner">Cerrar sesión</span></a>
		<span class="minmodetoggle" role="presentation"></span>
	</div>
	<img src="skins/larry/images/logo-ina.png" id="toplogo" alt="Logo" onclick="if(window.rcmail)rcmail.command('switch-task','mail')">
</div>

<br style="clear:both" />
</div>


<div id="mainscreen">

<h1 class="voice">Correo</h1>

<!-- toolbar -->
<h2 id="aria-label-toolbar" class="voice">Barra de herramientas de aplicación</h2>
<div id="messagetoolbar" class="toolbar" role="toolbar" aria-labelledby="aria-label-toolbar">
	<a class="button checkmail disabled" title="Revisar si hay nuevos mensajes" id="rcmbtn114" role="button" tabindex="-1" aria-disabled="true" href="#" onclick="return rcmail.command('checkmail','',this,event)">Actualizar</a>
	<a class="button compose disabled" title="Crear nuevo mensaje" id="rcmbtn115" role="button" tabindex="-1" aria-disabled="true" href="./?_task=mail&amp;_action=compose" onclick="return rcmail.command('compose','',this,event)">Escribir un mensaje</a>
<span class="spacer"></span>
<a class="button reply disabled" title="Responder mensaje" id="rcmbtn116" role="button" tabindex="-1" aria-disabled="true" href="#" onclick="return rcmail.command('reply','',this,event)">Responder</a>
<span class="dropbutton">
	<a class="button reply-all disabled" title="Responder al emisor y a todos los destinatarios" id="rcmbtn117" role="button" tabindex="-1" aria-disabled="true" href="#" onclick="return rcmail.command('reply-all','',this,event)">Responder a todos</a>
	<a href="#reply-all" class="dropbuttontip" id="replyallmenulink" onclick="UI.toggle_popup('replyallmenu',event);return false" aria-haspopup="true" aria-expanded="false" aria-owns="replyallmenu-menu" tabindex="0">Reply-all options</a>
</span>
<span class="dropbutton">
	<a class="button forward disabled" title="Reenviar mensaje" id="rcmbtn118" role="button" tabindex="-1" aria-disabled="true" href="#" onclick="return rcmail.command('forward','',this,event)">Reenviar</a>
	<a href="#forward" class="dropbuttontip" id="forwardmenulink" onclick="UI.toggle_popup('forwardmenu',event);return false" aria-haspopup="true" aria-expanded="false" aria-owns="forwardmenu-menu" tabindex="0">Forwarding options</a>
</span>
<a class="button delete disabled" title="Eliminar mensaje" id="rcmbtn119" role="button" tabindex="-1" aria-disabled="true" href="#" onclick="return rcmail.command('delete','',this,event)">Eliminar</a>
<a class="button buttonPas junk disabled" title="Marcar como SPAM" id="rcmbtn102" role="button" tabindex="-1" aria-disabled="true" href="#" onclick="return rcmail.command('plugin.markasjunk','',this,event)">Correo no deseado</a>

<a id="markmessagemenulink" class="button markmessage" title="Marcar mensajes" onclick="UI.toggle_popup('markmessagemenu',event);return false" aria-haspopup="true" aria-expanded="false" aria-owns="markmessagemenu-menu" role="button" href="#">Marcar</a>
<a id="messagemenulink" class="button more" title="Mas acciones..." onclick="UI.toggle_popup('messagemenu',event);return false" aria-haspopup="true" aria-expanded="false" aria-owns="messagemenu-menu" role="button" href="#">Más</a>

<div id="forwardmenu" class="popupmenu" aria-hidden="true">
	<h3 id="aria-label-forwardmenu" class="voice">Opciones de reenvío</h3>
	<ul id="forwardmenu-menu" class="toolbarmenu" role="menu" aria-labelledby="aria-label-forwardmenu">
		<li role="menuitem"><a class="forwardlink" id="rcmbtn120" role="button" tabindex="-1" aria-disabled="true" href="#" onclick="return rcmail.command('forward-inline','sub',this,event)">Reenviar en linea</a></li>
		<li role="menuitem"><a class="forwardattachmentlink" id="rcmbtn121" role="button" tabindex="-1" aria-disabled="true" href="#" onclick="return rcmail.command('forward-attachment','sub',this,event)">Reenviar como adjunto</a></li>
		
	</ul>
</div>

<div id="replyallmenu" class="popupmenu" aria-hidden="true">
	<h3 id="aria-label-replyallmenu" class="voice">Opciones de Responder a todos</h3>
	<ul id="replyallmenu-menu" class="toolbarmenu" role="menu" aria-labelledby="aria-label-replyallmenu">
		<li role="menuitem"><a class="replyalllink" id="rcmbtn122" role="button" tabindex="-1" aria-disabled="true" href="#" onclick="return rcmail.command('reply-all','sub',this,event)">Responder a todos</a></li>
		<li role="menuitem"><a class="replylistlink" id="rcmbtn123" role="button" tabindex="-1" aria-disabled="true" href="#" onclick="return rcmail.command('reply-list','sub',this,event)">Responder a lista</a></li>
		
	</ul>
</div>

<div id="messagemenu" class="popupmenu" aria-hidden="true">
	<h3 id="aria-label-messagemenu" class="voice">Más acciones de mensaje</h3>
	<ul id="messagemenu-menu" class="toolbarmenu iconized" role="menu" aria-labelledby="aria-label-messagemenu">
		<li role="menuitem"><a class="icon" id="rcmbtn124" role="button" tabindex="-1" aria-disabled="true" href="#" onclick="return rcmail.command('print','',this,event)"><span class="icon print">Imprimir este mensaje</span></a></li>
		<li role="menuitem"><a class="icon" id="rcmbtn125" role="button" tabindex="-1" aria-disabled="true" href="#" onclick="return rcmail.command('download','',this,event)"><span class="icon download">Guardar (.eml)</span></a></li>
		<li role="menuitem"><a class="icon" id="rcmbtn126" role="button" tabindex="-1" aria-disabled="true" href="#" onclick="return rcmail.command('edit','new',this,event)"><span class="icon edit">Editar como nuevo</span></a></li>
		<li role="menuitem"><a class="icon" id="rcmbtn127" role="button" tabindex="-1" aria-disabled="true" href="#" onclick="return rcmail.command('viewsource','',this,event)"><span class="icon viewsource">Mostrar código</span></a></li>
		<li role="menuitem"><a class="icon" id="rcmbtn128" role="button" tabindex="-1" aria-disabled="true" href="#" onclick="return rcmail.command('move','',this,event)"><span class="icon move folder-selector-link">Mover a...</span></a></li>
		<li role="menuitem"><a class="icon" id="rcmbtn129" role="button" tabindex="-1" aria-disabled="true" href="#" onclick="return rcmail.command('copy','',this,event)"><span class="icon copy folder-selector-link">Copiar a...</span></a></li>
		<li role="menuitem"><a target="_blank" class="icon" id="rcmbtn130" role="button" tabindex="-1" aria-disabled="true" href="#" onclick="return rcmail.command('open','',this,event)"><span class="icon extwin">Abrir en ventana nueva</span></a></li>
		<li><a class="icon calendarlink" id="rcmbtn105" role="button" tabindex="-1" aria-disabled="true" href="#" onclick="return rcmail.command('calendar-create-from-mail','',this,event)"><span class="icon calendar">Guardar como evento</span></a></li>

<li><a class="icon taskaddlink" id="rcmbtn106" role="button" tabindex="-1" aria-disabled="true" href="#" onclick="return rcmail.command('tasklist-create-from-mail','',this,event)"><span class="icon taskadd">Guardar como tarea</span></a></li>


	</ul>
</div>

<div id="markmessagemenu" class="popupmenu" aria-hidden="true">
	<h3 id="aria-label-markmessagemenu" class="voice">Marcar mensaje seleccionado como...</h3>
	<ul id="markmessagemenu-menu" class="toolbarmenu iconized" role="menu" aria-labelledby="aria-label-markmessagemenu">
		<li role="menuitem"><a class="icon" id="rcmbtn131" role="button" tabindex="-1" aria-disabled="true" href="#" onclick="return rcmail.command('mark','read',this,event)"><span class="icon read">Como leído</span></a></li>
		<li role="menuitem"><a class="icon" id="rcmbtn132" role="button" tabindex="-1" aria-disabled="true" href="#" onclick="return rcmail.command('mark','unread',this,event)"><span class="icon unread">Como no leído</span></a></li>
		<li role="menuitem"><a class="icon" id="rcmbtn133" role="button" tabindex="-1" aria-disabled="true" href="#" onclick="return rcmail.command('mark','flagged',this,event)"><span class="icon flagged">Como marcado</span></a></li>
		<li role="menuitem"><a class="icon" id="rcmbtn134" role="button" tabindex="-1" aria-disabled="true" href="#" onclick="return rcmail.command('mark','unflagged',this,event)"><span class="icon unflagged">Como no marcado</span></a></li>
		
	</ul>
</div>

</div>

<div id="messagesearchtools">

<!-- search filter -->
<div id="searchfilter">
	<label for="messagessearchfilter" class="voice">Filtro de listado de correo electrónico</label>
	<select name="searchfilter" class="searchfilter decorated" id="messagessearchfilter" aria-controls="messagelist" onchange="rcmail.filter_mailbox(this.value)">
<option value="ALL" selected="selected">Todos</option>
<option value="UNSEEN">Sin leer</option>
<option value="FLAGGED">Marcado</option>
<option value="UNANSWERED">Sin respuesta</option>
<option value="DELETED">Eliminado</option>
<option value="UNDELETED">No eliminado</option>
<option value="OR OR OR HEADER Content-Type application/ HEADER Content-Type multipart/m HEADER Content-Type multipart/signed HEADER Content-Type multipart/report">Con adjunto</option>
<option value="HEADER X-PRIORITY 1">Prioridad: Altísimo</option>
<option value="HEADER X-PRIORITY 2">Prioridad: Alto</option>
<option value="NOT HEADER X-PRIORITY 1 NOT HEADER X-PRIORITY 2 NOT HEADER X-PRIORITY 4 NOT HEADER X-PRIORITY 5">Prioridad: Normal</option>
<option value="HEADER X-PRIORITY 4">Prioridad: Bajo</option>
<option value="HEADER X-PRIORITY 5">Prioridad: Bajísimo</option>
</select>

</div>

<!-- search box -->
<div id="quicksearchbar" class="searchbox" role="search" aria-labelledby="aria-label-searchform">
<h2 id="aria-label-searchform" class="voice">Formulario de búsqueda de correo electrónico</h2>
<label for="quicksearchbox" class="voice">Ingreso de búsqueda de correo electrónico</label>
<a id="searchmenulink" class="iconbutton searchoptions" title="Opciones de búsqueda" aria-haspopup="true" aria-expanded="false" aria-owns="searchmenu-menu" role="button" href="#" onclick="return rcmail.command('menu-open','searchmenu',this,event)">Opciones</a>
<form name="rcmqsearchform" onsubmit="rcmail.command('search'); return false" style="display:inline" action="./?_task=mail" method="get"><input name="_q" id="quicksearchbox" type="text"></form>

<a id="searchreset" class="iconbutton reset" title="Reajustar la búsqueda" role="button" href="#" onclick="return rcmail.command('reset-search','',this,event)">Reajustar la búsqueda</a>

<div id="searchmenu" class="popupmenu" data-editable="true">
	<h3 id="aria-label-searchmenu" class="voice">Opciones de búsqueda</h3>
	<ul class="toolbarmenu" id="searchmenu-menu" role="menu" aria-labelledby="aria-label-searchmenu">
		<li role="menuitem"><label><input type="checkbox" name="s_mods[]" value="subject" id="s_mod_subject" onclick="UI.set_searchmod(this)" /> <span>Asunto</span></label></li>
		<li role="menuitem"><label><input type="checkbox" name="s_mods[]" value="from" id="s_mod_from" onclick="UI.set_searchmod(this)" /> <span>Remitente</span></label></li>
		<li role="menuitem"><label><input type="checkbox" name="s_mods[]" value="to" id="s_mod_to" onclick="UI.set_searchmod(this)" /> <span>Destinatario</span></label></li>
		<li role="menuitem"><label><input type="checkbox" name="s_mods[]" value="cc" id="s_mod_cc" onclick="UI.set_searchmod(this)" /> <span>Copia</span></label></li>
		<li role="menuitem"><label><input type="checkbox" name="s_mods[]" value="bcc" id="s_mod_bcc" onclick="UI.set_searchmod(this)" /> <span>Cco</span></label></li>
		<li role="menuitem"><label><input type="checkbox" name="s_mods[]" value="body" id="s_mod_body" onclick="UI.set_searchmod(this)" /> <span>Cuerpo</span></label></li>
		<li role="menuitem"><label><input type="checkbox" name="s_mods[]" value="text" id="s_mod_text" onclick="UI.set_searchmod(this)" /> <span>Mensaje completo</span></label></li>
		<li role="separator" class="separator"><label>Fecha</label></li>
		<li role="menuitem"><select name="searchinterval" id="s_interval" onchange="rcmail.set_searchinterval($(this).val())">
<option value="" selected="selected"></option><option value="1W">younger than a week</option>
<option value="1M">younger than a month</option>
<option value="1Y">younger than a year</option>
<option value="-1W">older than a week</option>
<option value="-1M">older than a month</option>
<option value="-1Y">older than a year</option>
</select>
</li>
		<li role="separator" class="separator"><label>Alcance</label></li>
		<li role="menuitem"><label><input type="radio" name="s_scope" value="base" id="s_scope_base" onclick="UI.set_searchscope(this)" /> <span>Carpeta actual</span></label></li>
		<li role="menuitem"><label><input type="radio" name="s_scope" value="sub" id="s_scope_sub" onclick="UI.set_searchscope(this)" /> <span>Este y subcarpetas</span></label></li>
		<li role="menuitem"><label><input type="radio" name="s_scope" value="all" id="s_scope_all" onclick="UI.set_searchscope(this)" /> <span>Todas las carpetas</span></label></li>
	</ul>
</div>

</div>

</div>

<div id="mainscreencontent">
<div id="mailview-left">

<!-- folders list -->
<div id="mailboxcontainer" class="uibox listbox" role="navigation" aria-labelledby="aria-label-folderlist">
<h2 id="aria-label-folderlist" class="voice">Selección de carpeta de correo electrónico</h2>
<div id="folderlist-content" class="scroller withfooter">
	<ul id="mailboxlist" class="treelist listing folderlist"><li id="rcmliSU5CT1g" class="mailbox inbox selected unread"><a href="./?_task=mail&amp;_mbox=INBOX" onclick="return rcmail.command('list','INBOX',this,event)" rel="INBOX">Entrada<span class="unreadcount">124</span></a>
</li>
<li id="rcmliSU5CT1guQm9ycmFkb3I" class="mailbox drafts"><a href="./?_task=mail&amp;_mbox=INBOX.Borrador" onclick="return rcmail.command('list','INBOX.Borrador',this,event)" rel="INBOX.Borrador">Borradores</a>
</li>
<li id="rcmliSU5CT1guRWxlbWVudG9zIGVudmlhZG9z" class="mailbox sent"><a href="./?_task=mail&amp;_mbox=INBOX.Elementos+enviados" onclick="return rcmail.command('list','INBOX.Elementos enviados',this,event)" rel="INBOX.Elementos enviados">Enviados</a>
</li>
<li id="rcmliSU5CT1guSnVuaw" class="mailbox junk"><a href="./?_task=mail&amp;_mbox=INBOX.Junk" onclick="return rcmail.command('list','INBOX.Junk',this,event)" rel="INBOX.Junk">Basura</a>
</li>
<li id="rcmliSU5CT1guVHJhc2g" class="mailbox trash"><a href="./?_task=mail&amp;_mbox=INBOX.Trash" onclick="return rcmail.command('list','INBOX.Trash',this,event)" rel="INBOX.Trash">Papelera</a>
</li>
<li id="rcmliSU5CT1guQXJjaGl2ZXM" class="mailbox"><a href="./?_task=mail&amp;_mbox=INBOX.Archives" onclick="return rcmail.command('list','INBOX.Archives',this,event)" rel="INBOX.Archives">Archives</a>
<div class="treetoggle expanded">&nbsp;</div>
<ul><li id="rcmliSU5CT1guQXJjaGl2ZXMuMjAxNQ" class="mailbox"><a href="./?_task=mail&amp;_mbox=INBOX.Archives.2015" onclick="return rcmail.command('list','INBOX.Archives.2015',this,event)" rel="INBOX.Archives.2015">2015</a>
</li>
<li id="rcmliSU5CT1guQXJjaGl2ZXMuMjAxNg" class="mailbox"><a href="./?_task=mail&amp;_mbox=INBOX.Archives.2016" onclick="return rcmail.command('list','INBOX.Archives.2016',this,event)" rel="INBOX.Archives.2016">2016</a>
</li>
<li id="rcmliSU5CT1guQXJjaGl2ZXMuMjAxNw" class="mailbox"><a href="./?_task=mail&amp;_mbox=INBOX.Archives.2017" onclick="return rcmail.command('list','INBOX.Archives.2017',this,event)" rel="INBOX.Archives.2017">2017</a>
</li>
</ul>
</li>
<li id="rcmliSU5CT1guRHJhZnRz" class="mailbox unread"><a href="./?_task=mail&amp;_mbox=INBOX.Drafts" onclick="return rcmail.command('list','INBOX.Drafts',this,event)" rel="INBOX.Drafts">Drafts<span class="unreadcount">1</span></a>
</li>
<li id="rcmliSU5CT1guU2VudA" class="mailbox"><a href="./?_task=mail&amp;_mbox=INBOX.Sent" onclick="return rcmail.command('list','INBOX.Sent',this,event)" rel="INBOX.Sent">Sent</a>
</li>
<li id="rcmliSU5CT1gudmllam8" class="mailbox"><a href="./?_task=mail&amp;_mbox=INBOX.viejo" onclick="return rcmail.command('list','INBOX.viejo',this,event)" rel="INBOX.viejo">viejo</a>
<div class="treetoggle expanded">&nbsp;</div>
<ul><li id="rcmliSU5CT1gudmllam8uMjAxNQ" class="mailbox"><a href="./?_task=mail&amp;_mbox=INBOX.viejo.2015" onclick="return rcmail.command('list','INBOX.viejo.2015',this,event)" rel="INBOX.viejo.2015">2015</a>
</li>
<li id="rcmliSU5CT1gudmllam8uMjAxNg" class="mailbox"><a href="./?_task=mail&amp;_mbox=INBOX.viejo.2016" onclick="return rcmail.command('list','INBOX.viejo.2016',this,event)" rel="INBOX.viejo.2016">2016</a>
</li>
<li id="rcmliSU5CT1gudmllam8uMjAxNw" class="mailbox"><a href="./?_task=mail&amp;_mbox=INBOX.viejo.2017" onclick="return rcmail.command('list','INBOX.viejo.2017',this,event)" rel="INBOX.viejo.2017">2017</a>
</li>
<li id="rcmliSU5CT1gudmllam8uMjAxOA" class="mailbox"><a href="./?_task=mail&amp;_mbox=INBOX.viejo.2018" onclick="return rcmail.command('list','INBOX.viejo.2018',this,event)" rel="INBOX.viejo.2018">2018</a>
</li>
</ul>
</li>
</ul>

</div>
<div id="folderlist-footer" class="boxfooter">
	<a id="mailboxmenulink" title="Acciones de carpeta..." class="listbutton groupactions" onclick="UI.toggle_popup('mailboxmenu',event);return false" aria-haspopup="true" aria-expanded="false" aria-owns="mailboxoptionsmenu" role="button" href="#"><span class="inner">⚙</span></a>
			<span class="voice">Uso de disco</span>
		<span id="quotadisplay" class="countdisplay">&nbsp;</span>
	</div>
</div>

</div>

<div id="mailview-right" role="main">

<div id="mailview-top" class="uibox fullheight">

<!-- messagelist -->
<div id="messagelistcontainer" class="boxlistcontent">
<h2 id="aria-label-messagelist" class="voice">Listado de mensajes de correo electrónico</h2>
<table id="messagelist" class="records-table messagelist sortheader fixedheader" aria-labelledby="aria-label-messagelist"><thead><tr><th class="threads" id="rcmthreads"><a href="#list-options" onclick="return rcmail.command('menu-open', 'messagelistmenu', this, event)" class="listmenu" id="listmenulink" title="Listar opciones..." tabindex="0">Listar opciones...</a></th>
<th class="subject" id="rcmsubject"><a href="./#sort" class="sortcol" rel="subject" title="Ordenar por">Asunto</a></th>
<th class="status" id="rcmstatus"><span class="status">Leer estado</span></th>
<th class="fromto" id="rcmfromto"><a href="./#sort" class="sortcol" rel="fromto" title="Ordenar por">Remitente</a></th>
<th class="date sortedDESC" id="rcmdate"><a href="./#sort" class="sortcol" rel="date" title="Ordenar por">Fecha</a></th>
<th class="size" id="rcmsize"><a href="./#sort" class="sortcol" rel="size" title="Ordenar por">Tamaño</a></th>
<th class="flag" id="rcmflag"><span class="flagged">Marcado</span></th>
<th class="attachment" id="rcmattachment"><span class="attachment">Adjunto</span></th>
</tr>
</thead>
<tbody></tbody></table>

</div>

<div class="voice" role="note">
<h3>Listar navegación por teclado</h3>
<pre>
Flechas arriba/abajo: Mueve el foco de la fila/selección.
Espacio: Selecciona la fila en foco.
Shift + arriba/abajo: Selecciona fila adicional arriba/abajo.
Ctrl + Espacio: Agrega fila seleccionada en foco para seleccionar/eliminar.
Flechas arriba/abajo: expande/colapsa el hilo del mensaje (sólo en modo de hilos).
Intro: Abre el mensaje seleccionado/en foco.
Supr: Mueve el mensaje seleccionado a la Papelera.
</pre>
</div>

<!-- list footer -->
<div id="messagelistfooter">
	<div id="listcontrols">
		<a href="#list" class="iconbutton listmode disabled" id="maillistmode" title="Lista" role="button" tabindex="-1" aria-disabled="true" onclick="return rcmail.command('set-listmode','list',this,event)">List</a>
		<a href="#threads" class="iconbutton threadmode disabled" id="mailthreadmode" title="Conversaciones" role="button" tabindex="-1" aria-disabled="true" onclick="return rcmail.command('set-listmode','threads',this,event)">Threads</a>
	</div>
	
	<div id="listselectors">
	<a href="#select" id="listselectmenulink" class="menuselector" onclick="UI.toggle_popup('listselectmenu', event);return false" aria-haspopup="true" aria-expanded="false" aria-owns="listselectmenu-menu"><span class="handle">Elija</span></a>
			&nbsp; <a href="#threads" id="threadselectmenulink" class="menuselector" onclick="UI.toggle_popup('threadselectmenu', event);return false" aria-haspopup="true" aria-expanded="false" aria-owns="threadselectmenu-menu"><span class="handle">Conversaciones</span></a>
		</div>

	<div id="countcontrols" class="pagenav dark">
		<span class="countdisplay" aria-live="polite" aria-relevant="text" id="rcmcountdisplay">La casilla está vacía</span>
		<span class="pagenavbuttons">
		<a class="button firstpage disabled" title="Mostrar primer grupo" id="rcmbtn135" role="button" tabindex="-1" aria-disabled="true" href="#" onclick="return rcmail.command('firstpage','',this,event)"><span class="inner">Primero</span></a>
		<a class="button prevpage disabled" title="Mostrar grupo anterior" id="rcmbtn136" role="button" tabindex="-1" aria-disabled="true" href="#" onclick="return rcmail.command('previouspage','',this,event)"><span class="inner">Anterior</span></a>
		<input id="pagejumper" class="pagejumper" type="text" size="3" disabled="disabled" title="Página actual" />
		<a class="button nextpage disabled" title="Mostrar siguiente grupo" id="rcmbtn137" role="button" tabindex="-1" aria-disabled="true" href="#" onclick="return rcmail.command('nextpage','',this,event)"><span class="inner">Siguiente</span></a>
		<a class="button lastpage disabled" title="Mostrar último grupo" id="rcmbtn138" role="button" tabindex="-1" aria-disabled="true" href="#" onclick="return rcmail.command('lastpage','',this,event)"><span class="inner">Último</span></a>
		</span>
	</div>

	

	<a href="#preview" id="mailpreviewtoggle" class="iconbutton" title="Mostrar vista preliminar" role="button" tabindex="0">Mostrar vista preliminar</a>
</div>

</div><!-- end mailview-top -->

<div id="mailview-bottom" class="uibox">

<div id="mailpreviewframe" class="iframebox" role="complementary" aria-labelledby="aria-label-mailpreviewframe">
<h2 id="aria-label-mailpreviewframe" class="voice">Previsualización de mensaje</h2>
<iframe name="messagecontframe" id="messagecontframe" style="width:100%; height:100%" frameborder="0" src="skins/larry/watermark.html" title="Previsualización de mensaje"></iframe>
</div>

</div><!-- end mailview-bottom -->

</div><!-- end mailview-right -->

</div><!-- end mainscreencontent -->

</div><!-- end mainscreen -->

<div id="dragmessagemenu" class="popupmenu" aria-hidden="true">
	<ul class="toolbarmenu" role="menu">
		<li role="menuitem"><a onclick="return rcmail.drag_menu_action('move')" id="rcmbtn139" role="button" href="#">Mover</a></li>
		<li role="menuitem"><a onclick="return rcmail.drag_menu_action('copy')" id="rcmbtn140" role="button" href="#">Copiar</a></li>
	</ul>
</div>

<div id="mailboxmenu" class="popupmenu" aria-hidden="true">
	<h3 id="aria-label-mailboxmenu" class="voice">Menú de acciones de carpeta</h3>
	<ul class="toolbarmenu" id="mailboxoptionsmenu" role="menu" aria-labelledby="aria-label-mailboxmenu">
		<li role="menuitem"><a id="rcmbtn141" role="button" href="#" onclick="return rcmail.command('expunge','',this,event)">Compactar</a></li>
		<li role="menuitem"><a id="rcmbtn142" role="button" href="#" onclick="return rcmail.command('purge','',this,event)">Vaciar</a></li>
		<li role="menuitem"><a onclick="if(rcmail.command_enabled('import-messages'))UI.show_uploadform();return false" id="rcmbtn143" role="button" href="#">Importar mensajes</a></li>
		<li role="menuitem"><a id="rcmbtn144" role="button" href="./?_task=settings&amp;_action=folders" class="active">Administrar carpetas</a></li>
		
	</ul>
</div>

<div id="listselectmenu" class="popupmenu dropdown" aria-hidden="true">
	<h3 id="aria-label-listselectmenu" class="voice">Menú de selección de lista</h3>
	<ul id="listselectmenu-menu" class="toolbarmenu iconized" role="menu" aria-labelledby="aria-label-listselectmenu">
		<li role="menuitem"><a class="icon" id="rcmbtn145" role="button" tabindex="-1" aria-disabled="true" href="#" onclick="return rcmail.command('select-all','',this,event)"><span class="icon mail">Todos</span></a></li>
		<li role="menuitem"><a class="icon" id="rcmbtn146" role="button" tabindex="-1" aria-disabled="true" href="#" onclick="return rcmail.command('select-all','page',this,event)"><span class="icon list">Página actual</span></a></li>
		<li role="menuitem"><a class="icon" id="rcmbtn147" role="button" tabindex="-1" aria-disabled="true" href="#" onclick="return rcmail.command('select-all','unread',this,event)"><span class="icon unread">Sin leer</span></a></li>
		<li role="menuitem"><a class="icon" id="rcmbtn148" role="button" tabindex="-1" aria-disabled="true" href="#" onclick="return rcmail.command('select-all','flagged',this,event)"><span class="icon flagged">Marcado</span></a></li>
		<li role="menuitem"><a class="icon" id="rcmbtn149" role="button" tabindex="-1" aria-disabled="true" href="#" onclick="return rcmail.command('select-all','invert',this,event)"><span class="icon invert">Invertir</span></a></li>
		<li role="menuitem"><a class="icon" id="rcmbtn150" role="button" tabindex="-1" aria-disabled="true" href="#" onclick="return rcmail.command('select-none','',this,event)"><span class="icon cross">Ninguno</span></a></li>
	</ul>
</div>

<div id="threadselectmenu" class="popupmenu dropdown" aria-hidden="true">
	<h3 id="aria-label-threadselectmenu" class="voice">Menú de listado por hilo</h3>
	<ul id="threadselectmenu-menu" class="toolbarmenu" role="menu" aria-labelledby="aria-label-threadselectmenu">
		<li role="menuitem"><a class="icon" id="rcmbtn151" role="button" tabindex="-1" aria-disabled="true" href="#" onclick="return rcmail.command('expand-all','',this,event)"><span class="icon conversation">Expandir Todos</span></a></li>
		<li role="menuitem"><a class="icon" id="rcmbtn152" role="button" tabindex="-1" aria-disabled="true" href="#" onclick="return rcmail.command('expand-unread','',this,event)"><span class="icon conversation">Expandir No Leidos</span></a></li>
		<li role="menuitem"><a class="icon" id="rcmbtn153" role="button" tabindex="-1" aria-disabled="true" href="#" onclick="return rcmail.command('collapse-all','',this,event)"><span class="icon conversation">Colapsar Todos</span></a></li>
	</ul>
</div>

<div id="listoptions" class="propform popupdialog" role="dialog" aria-labelledby="aria-label-listoptions" aria-hidden="true">
<h2 id="aria-label-listoptions" class="voice">Opciones de mostrado de mensajes y ordenamiento</h2>
	<fieldset class="floating">
		<legend>Listar columnas</legend>
		<ul class="proplist">
			<li><label class="disabled"><input type="checkbox" name="list_col[]" value="threads" checked="checked" disabled="disabled" /> <span>Conversaciones</span></label></li>
			<li><label class="disabled"><input type="checkbox" name="list_col[]" value="subject" checked="checked" disabled="disabled" /> <span>Asunto</span></label></li>
			<li><label><input type="checkbox" name="list_col[]" value="fromto" /> <span>De/A</span></label></li>
			<li><label><input type="checkbox" name="list_col[]" value="from" /> <span>Remitente</span></label></li>
			<li><label><input type="checkbox" name="list_col[]" value="to" /> <span>Destinatario</span></label></li>
			<li><label><input type="checkbox" name="list_col[]" value="replyto" /> <span>Responder a</span></label></li>
			<li><label><input type="checkbox" name="list_col[]" value="cc" /> <span>Copia</span></label></li>
			<li><label><input type="checkbox" name="list_col[]" value="date" /> <span>Fecha</span></label></li>
			<li><label><input type="checkbox" name="list_col[]" value="size" /> <span>Tamaño</span></label></li>
			<li><label><input type="checkbox" name="list_col[]" value="status" /> <span>Leer estado</span></label></li>
			<li><label><input type="checkbox" name="list_col[]" value="attachment" /> <span>Adjunto</span></label></li>
			<li><label><input type="checkbox" name="list_col[]" value="flag" /> <span>Marca</span></label></li>
			<li><label><input type="checkbox" name="list_col[]" value="priority" /> <span>Prioridad</span></label></li>
		</ul>
	</fieldset>
			<fieldset class="floating">
		<legend>Ordenar por</legend>
		<ul class="proplist">
			<li><label><input type="radio" name="sort_col" value="" /> <span>Ninguno</span></label></li>
			<li><label><input type="radio" name="sort_col" value="arrival" /> <span>Fecha de Recepción</span></label></li>
			<li><label><input type="radio" name="sort_col" value="date" /> <span>Fecha de Enviado</span></label></li>
			<li><label><input type="radio" name="sort_col" value="subject" /> <span>Asunto</span></label></li>
			<li><label><input type="radio" name="sort_col" value="fromto" /> <span>De/A</span></label></li>
			<li><label><input type="radio" name="sort_col" value="from" /> <span>Remitente</span></label></li>
			<li><label><input type="radio" name="sort_col" value="to" /> <span>Destinatario</span></label></li>
			<li><label><input type="radio" name="sort_col" value="cc" /> <span>Copia</span></label></li>
			<li><label><input type="radio" name="sort_col" value="size" /> <span>Tamaño</span></label></li>
		</ul>
	</fieldset>
			<fieldset class="floating">
		<legend>Ordenado por</legend>
		<ul class="proplist">
			<li><label><input type="radio" name="sort_ord" value="ASC" /> <span>Ascendente</span></label></li>
			<li><label><input type="radio" name="sort_ord" value="DESC" /> <span>Descendente</span></label></li>
		</ul>
	</fieldset>
		<br style="clear:both" />
	<div class="formbuttons">
		<input id="listmenusave" type="button" class="button mainaction" onclick="return rcmail.command('menu-save','',this,event)" value="Guardar" disabled="disabled">
		<input id="listmenucancel" type="button" class="button" onclick="return rcmail.command('menu-close','messagelistmenu',this,event)" value="Cancelar" disabled="disabled">
	</div>
</div>

<div id="upload-dialog" class="propform popupdialog" title="Importar mensajes" aria-hidden="true">
	<h2 id="aria-label-uploaddialog" class="voice">Diálogo de importación de mensaje</h2>
	<div id="uploadform"><form id="uploadformFrm" method="post" enctype="multipart/form-data" action="./?_task=mail">
<input type="hidden" name="_token" value="vjscLYlHZ9uOk7YjduZrZeOEvsObGMrK"><input type="hidden" name="_unlock" value=""><input type="hidden" name="_framed" value="1"><div><input type="file" name="_file[]" multiple="multiple" accept=".eml, .mbox, message/rfc822, text/*"></div>
<div class="hint">El tamaño maximo permitido por archivo es 20 MB</div>
</form>
</div>

	<div class="formbuttons">
		<input type="button" class="button mainaction" id="rcmbtn154" onclick="return rcmail.command('import-messages','',this,event)" value="Agregar" disabled="disabled">
		<input type="button" class="button" onclick="UI.show_uploadform()" id="rcmbtn155" value="Cancelar">
	</div>
</div>

<div id="messagestack"></div>

<script type="text/javascript">

// UI startup
var UI = new rcube_mail_ui();
$(document).ready(function(){
	UI.set('errortitle', 'Ha ocurrido un error!');
	UI.set('toggleoptions', 'Activar opciones avanzadas');
	UI.init();
});

</script>



<div id="selectmenu" class="popupmenu dropdown">
        <ul>
          <li title="Todos" onclick="return rcmail.command('select-all','',this)" class="active">Todos</li>
          <li title="Página actual" onclick="return rcmail.command('select-all','page',this)" class="active">Página actual</li>
          <li title="Sin leer" onclick="return rcmail.command('select-all','unread',this)" class="active">Sin leer</li>
          <li title="Invertir" onclick="return rcmail.command('select-all','invert',this)" class="active">Invertir</li>
          <li title="Ninguno" onclick="return rcmail.command('select-none','',this)" class="active">Ninguno</li>
        </ul></div>
<script type="text/javascript">

jQuery.extend(jQuery.ui.dialog.prototype.options.position, {
                using: function(pos) {
                    var me = jQuery(this),
                        offset = me.css(pos).offset(),
                        topOffset = offset.top - 12;
                    if (topOffset < 0)
                        me.css('top', pos.top - topOffset);
                    if (offset.left + me.outerWidth() + 12 > jQuery(window).width())
                        me.css('left', pos.left - 12);
                }
            });
$(document).ready(function(){ 
rcmail.init();
rcmail.set_quota({"used":486268,"total":1024000,"percent":47,"free":53,"type":"text","folder":"INBOX","title":"474 MB \/ 1000 MB (47%)"});
});
</script>

</body>
</html>