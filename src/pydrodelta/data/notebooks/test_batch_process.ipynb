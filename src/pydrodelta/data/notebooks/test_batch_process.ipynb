{
 "cells": [
  {
   "cell_type": "markdown",
   "metadata": {},
   "source": [
    "### test analysis module"
   ]
  },
  {
   "cell_type": "code",
   "execution_count": 1,
   "metadata": {},
   "outputs": [],
   "source": [
    "os.getcwd()\n",
    "import pydrodelta.analysis \n",
    "import json\n",
    "import matplotlib.pyplot as plt\n"
   ]
  },
  {
   "cell_type": "markdown",
   "metadata": {},
   "source": [
    "#### instantiate boundarySet class from config file (.xml)"
   ]
  },
  {
   "cell_type": "code",
   "execution_count": 2,
   "metadata": {},
   "outputs": [
    {
     "data": {
      "text/plain": [
       "<pydrodelta.analysis.BoundarySet at 0x7f5f5486e2e0>"
      ]
     },
     "execution_count": 2,
     "metadata": {},
     "output_type": "execute_result"
    }
   ],
   "source": [
    "bordes_config = json.load(open(\"pydrodelta_config/288_short.json\"))\n",
    "bordes_set = pydrodelta.analysis.BoundarySet(bordes_config)\n",
    "bordes_set"
   ]
  },
  {
   "cell_type": "markdown",
   "metadata": {},
   "source": [
    "#### batch process"
   ]
  },
  {
   "cell_type": "code",
   "execution_count": 3,
   "metadata": {},
   "outputs": [
    {
     "name": "stdout",
     "output_type": "stream",
     "text": [
      "Warning: series 26202 from cal_id 432 not found\n",
      "Warning: no data found for series_id=26202, cal_id=432\n",
      "Warning: no data found for series_id=31536\n",
      "Detecta Outliers:\n",
      "Limite superior 4.62\n",
      "Limite inferior -2.25\n",
      "Cantidad de outliers:  0\n",
      "Detecta Outliers:\n",
      "Limite superior 5.0\n",
      "Limite inferior -3.03\n",
      "Cantidad de outliers:  0\n",
      "Detecta Outliers:\n",
      "Limite superior 4.18\n",
      "Limite inferior -1.82\n",
      "Cantidad de outliers:  0\n",
      "Detecta Outliers:\n",
      "Limite superior 3.42\n",
      "Limite inferior -1.7\n",
      "Cantidad de outliers:  0\n",
      "Detecta Outliers:\n",
      "Limite superior 2.66\n",
      "Limite inferior -2.01\n",
      "Cantidad de outliers:  0\n",
      "Detecta Outliers:\n",
      "Limite superior 4.62\n",
      "Limite inferior -2.25\n",
      "Cantidad de outliers:  0\n",
      "Detecta Outliers:\n",
      "Limite superior 1000.0\n",
      "Limite inferior 0.0\n",
      "Cantidad de outliers:  0\n",
      "Detecta Outliers:\n",
      "Limite superior 10000.0\n",
      "Limite inferior 0.0\n",
      "Cantidad de outliers:  0\n",
      "Detecta Outliers:\n",
      "Limite superior 8.0\n",
      "Limite inferior -1.5\n",
      "Cantidad de outliers:  0\n",
      "Detecta Outliers:\n",
      "Limite superior 8.0\n",
      "Limite inferior -1.5\n",
      "Cantidad de outliers:  0\n",
      "Detecta Outliers:\n",
      "Limite superior 8.0\n",
      "Limite inferior -1.5\n",
      "Cantidad de outliers:  0\n",
      "Detecta Outliers:\n",
      "Limite superior 3.42\n",
      "Limite inferior -1.7\n",
      "Cantidad de outliers:  0\n",
      "Detecta Outliers:\n",
      "Limite superior 2.66\n",
      "Limite inferior -2.01\n",
      "Cantidad de outliers:  0\n",
      "Detecta Outliers:\n",
      "Limite superior 3.42\n",
      "Limite inferior -1.7\n",
      "Cantidad de outliers:  0\n",
      "Detecta Outliers:\n",
      "Limite superior 6000.0\n",
      "Limite inferior -0.0\n",
      "Cantidad de outliers:  0\n",
      "Detecta Outliers:\n",
      "Limite superior 6000.0\n",
      "Limite inferior -0.0\n",
      "Cantidad de outliers:  0\n",
      "Detecta Saltos:\n",
      "Limite Salto (m):  0.958\n",
      "Cantidad de Saltos 0\n",
      "Detecta Saltos:\n",
      "Limite Salto (m):  0.835\n",
      "Cantidad de Saltos 0\n",
      "Detecta Saltos:\n",
      "Limite Salto (m):  0.8\n",
      "Cantidad de Saltos 0\n",
      "Detecta Saltos:\n",
      "Limite Salto (m):  0.4\n",
      "Cantidad de Saltos 0\n",
      "Detecta Saltos:\n",
      "Limite Salto (m):  0.5\n",
      "Cantidad de Saltos 0\n",
      "Detecta Saltos:\n",
      "Limite Salto (m):  0.958\n",
      "Cantidad de Saltos 0\n",
      "Detecta Saltos:\n",
      "Limite Salto (m):  1000.0\n",
      "Cantidad de Saltos 0\n",
      "Detecta Saltos:\n",
      "Limite Salto (m):  1000.0\n",
      "Cantidad de Saltos 0\n",
      "Detecta Saltos:\n",
      "Limite Salto (m):  0.7\n",
      "Cantidad de Saltos 0\n",
      "Detecta Saltos:\n",
      "Limite Salto (m):  0.7\n",
      "Cantidad de Saltos 0\n",
      "Detecta Saltos:\n",
      "Limite Salto (m):  0.7\n",
      "Cantidad de Saltos 0\n",
      "Detecta Saltos:\n",
      "Limite Salto (m):  0.4\n",
      "Cantidad de Saltos 0\n",
      "Detecta Saltos:\n",
      "Limite Salto (m):  0.5\n",
      "Cantidad de Saltos 0\n",
      "Detecta Saltos:\n",
      "Limite Salto (m):  0.4\n",
      "Cantidad de Saltos 0\n",
      "Detecta Saltos:\n",
      "Limite Salto (m):  6000.0\n",
      "Cantidad de Saltos 0\n",
      "Detecta Saltos:\n",
      "Limite Salto (m):  6000.0\n",
      "Cantidad de Saltos 0\n",
      "Deriving 31521 from Nueva Palmira - Stage Hydrograph -1H\n",
      "Interpolating 31524 from San Fernando - Stage Hydrograph - 1H and Nueva Palmira - Stage Hydrograph -1H\n",
      "Interpolating 31523 from San Fernando - Stage Hydrograph - 1H and Nueva Palmira - Stage Hydrograph -1H\n",
      "Interpolating 31522 from San Fernando - Stage Hydrograph - 1H and Nueva Palmira - Stage Hydrograph -1H\n",
      "Interpolating 31526 from San Fernando - Stage Hydrograph - 1H and Nueva Palmira - Stage Hydrograph -1H\n",
      "Interpolating 31527 from San Fernando - Stage Hydrograph - 1H and Nueva Palmira - Stage Hydrograph -1H\n",
      "Deriving 31528 from San Fernando - Stage Hydrograph - 1H\n",
      "Interpolating 31529 from San Fernando - Stage Hydrograph - 1H and Nueva Palmira - Stage Hydrograph -1H\n",
      "Deriving 31532 from Nueva Palmira - Stage Hydrograph -1H\n",
      "Interpolating 31533 from San Fernando - Stage Hydrograph - 1H and Nueva Palmira - Stage Hydrograph -1H\n",
      "Interpolating 31535 from San Fernando - Stage Hydrograph - 1H and Nueva Palmira - Stage Hydrograph -1H\n"
     ]
    }
   ],
   "source": [
    "bordes_set.batchProcessInput()"
   ]
  },
  {
   "cell_type": "markdown",
   "metadata": {},
   "source": [
    "#### save into file (csv, json)"
   ]
  },
  {
   "cell_type": "code",
   "execution_count": 4,
   "metadata": {},
   "outputs": [],
   "source": [
    "bordes_set.saveData(\"tmp/288_short_boundaries.csv\")\n",
    "bordes_set.saveData(\"tmp/288_short_boundaries.json\",format=\"json\")"
   ]
  },
  {
   "cell_type": "markdown",
   "metadata": {},
   "source": [
    "#### pivot boundary"
   ]
  },
  {
   "cell_type": "code",
   "execution_count": 5,
   "metadata": {},
   "outputs": [
    {
     "data": {
      "text/html": [
       "<div>\n",
       "<style scoped>\n",
       "    .dataframe tbody tr th:only-of-type {\n",
       "        vertical-align: middle;\n",
       "    }\n",
       "\n",
       "    .dataframe tbody tr th {\n",
       "        vertical-align: top;\n",
       "    }\n",
       "\n",
       "    .dataframe thead th {\n",
       "        text-align: right;\n",
       "    }\n",
       "</style>\n",
       "<table border=\"1\" class=\"dataframe\">\n",
       "  <thead>\n",
       "    <tr style=\"text-align: right;\">\n",
       "      <th></th>\n",
       "      <th>valor_52</th>\n",
       "      <th>valor_85</th>\n",
       "      <th>valor_3279</th>\n",
       "      <th>valor_3280</th>\n",
       "      <th>valor_2111</th>\n",
       "      <th>valor_26202</th>\n",
       "    </tr>\n",
       "    <tr>\n",
       "      <th>timestart</th>\n",
       "      <th></th>\n",
       "      <th></th>\n",
       "      <th></th>\n",
       "      <th></th>\n",
       "      <th></th>\n",
       "      <th></th>\n",
       "    </tr>\n",
       "  </thead>\n",
       "  <tbody>\n",
       "    <tr>\n",
       "      <th>2022-06-01 00:00:00-03:00</th>\n",
       "      <td>0.49000</td>\n",
       "      <td>0.4000</td>\n",
       "      <td>0.580000</td>\n",
       "      <td>0.49</td>\n",
       "      <td>0.510000</td>\n",
       "      <td>NaN</td>\n",
       "    </tr>\n",
       "    <tr>\n",
       "      <th>2022-06-01 01:00:00-03:00</th>\n",
       "      <td>0.47000</td>\n",
       "      <td>0.4150</td>\n",
       "      <td>0.562694</td>\n",
       "      <td>0.48</td>\n",
       "      <td>0.505056</td>\n",
       "      <td>NaN</td>\n",
       "    </tr>\n",
       "    <tr>\n",
       "      <th>2022-06-01 02:00:00-03:00</th>\n",
       "      <td>0.39000</td>\n",
       "      <td>0.3825</td>\n",
       "      <td>0.495167</td>\n",
       "      <td>0.46</td>\n",
       "      <td>0.485056</td>\n",
       "      <td>NaN</td>\n",
       "    </tr>\n",
       "    <tr>\n",
       "      <th>2022-06-01 03:00:00-03:00</th>\n",
       "      <td>0.32500</td>\n",
       "      <td>0.3950</td>\n",
       "      <td>0.435167</td>\n",
       "      <td>0.43</td>\n",
       "      <td>0.460111</td>\n",
       "      <td>NaN</td>\n",
       "    </tr>\n",
       "    <tr>\n",
       "      <th>2022-06-01 04:00:00-03:00</th>\n",
       "      <td>0.33750</td>\n",
       "      <td>0.6550</td>\n",
       "      <td>0.375167</td>\n",
       "      <td>0.42</td>\n",
       "      <td>0.425056</td>\n",
       "      <td>NaN</td>\n",
       "    </tr>\n",
       "    <tr>\n",
       "      <th>...</th>\n",
       "      <td>...</td>\n",
       "      <td>...</td>\n",
       "      <td>...</td>\n",
       "      <td>...</td>\n",
       "      <td>...</td>\n",
       "      <td>...</td>\n",
       "    </tr>\n",
       "    <tr>\n",
       "      <th>2022-07-09 20:00:00-03:00</th>\n",
       "      <td>-0.03000</td>\n",
       "      <td>-0.1900</td>\n",
       "      <td>NaN</td>\n",
       "      <td>0.16</td>\n",
       "      <td>0.205056</td>\n",
       "      <td>NaN</td>\n",
       "    </tr>\n",
       "    <tr>\n",
       "      <th>2022-07-09 21:00:00-03:00</th>\n",
       "      <td>-0.10625</td>\n",
       "      <td>-0.2675</td>\n",
       "      <td>NaN</td>\n",
       "      <td>0.13</td>\n",
       "      <td>0.180111</td>\n",
       "      <td>NaN</td>\n",
       "    </tr>\n",
       "    <tr>\n",
       "      <th>2022-07-09 22:00:00-03:00</th>\n",
       "      <td>-0.17125</td>\n",
       "      <td>-0.3250</td>\n",
       "      <td>NaN</td>\n",
       "      <td>0.10</td>\n",
       "      <td>0.142583</td>\n",
       "      <td>NaN</td>\n",
       "    </tr>\n",
       "    <tr>\n",
       "      <th>2022-07-09 23:00:00-03:00</th>\n",
       "      <td>-0.23000</td>\n",
       "      <td>-0.2950</td>\n",
       "      <td>NaN</td>\n",
       "      <td>0.10</td>\n",
       "      <td>0.112583</td>\n",
       "      <td>NaN</td>\n",
       "    </tr>\n",
       "    <tr>\n",
       "      <th>2022-07-10 00:00:00-03:00</th>\n",
       "      <td>-0.26000</td>\n",
       "      <td>0.2500</td>\n",
       "      <td>NaN</td>\n",
       "      <td>NaN</td>\n",
       "      <td>0.090000</td>\n",
       "      <td>NaN</td>\n",
       "    </tr>\n",
       "  </tbody>\n",
       "</table>\n",
       "<p>937 rows × 6 columns</p>\n",
       "</div>"
      ],
      "text/plain": [
       "                           valor_52  valor_85  valor_3279  valor_3280  \\\n",
       "timestart                                                               \n",
       "2022-06-01 00:00:00-03:00   0.49000    0.4000    0.580000        0.49   \n",
       "2022-06-01 01:00:00-03:00   0.47000    0.4150    0.562694        0.48   \n",
       "2022-06-01 02:00:00-03:00   0.39000    0.3825    0.495167        0.46   \n",
       "2022-06-01 03:00:00-03:00   0.32500    0.3950    0.435167        0.43   \n",
       "2022-06-01 04:00:00-03:00   0.33750    0.6550    0.375167        0.42   \n",
       "...                             ...       ...         ...         ...   \n",
       "2022-07-09 20:00:00-03:00  -0.03000   -0.1900         NaN        0.16   \n",
       "2022-07-09 21:00:00-03:00  -0.10625   -0.2675         NaN        0.13   \n",
       "2022-07-09 22:00:00-03:00  -0.17125   -0.3250         NaN        0.10   \n",
       "2022-07-09 23:00:00-03:00  -0.23000   -0.2950         NaN        0.10   \n",
       "2022-07-10 00:00:00-03:00  -0.26000    0.2500         NaN         NaN   \n",
       "\n",
       "                           valor_2111  valor_26202  \n",
       "timestart                                           \n",
       "2022-06-01 00:00:00-03:00    0.510000          NaN  \n",
       "2022-06-01 01:00:00-03:00    0.505056          NaN  \n",
       "2022-06-01 02:00:00-03:00    0.485056          NaN  \n",
       "2022-06-01 03:00:00-03:00    0.460111          NaN  \n",
       "2022-06-01 04:00:00-03:00    0.425056          NaN  \n",
       "...                               ...          ...  \n",
       "2022-07-09 20:00:00-03:00    0.205056          NaN  \n",
       "2022-07-09 21:00:00-03:00    0.180111          NaN  \n",
       "2022-07-09 22:00:00-03:00    0.142583          NaN  \n",
       "2022-07-09 23:00:00-03:00    0.112583          NaN  \n",
       "2022-07-10 00:00:00-03:00    0.090000          NaN  \n",
       "\n",
       "[937 rows x 6 columns]"
      ]
     },
     "execution_count": 5,
     "metadata": {},
     "output_type": "execute_result"
    }
   ],
   "source": [
    "pivoted_boundary = bordes_set.boundaries[0].pivotData()\n",
    "pivoted_boundary"
   ]
  },
  {
   "cell_type": "markdown",
   "metadata": {},
   "source": [
    "#### save pivot boundary set"
   ]
  },
  {
   "cell_type": "code",
   "execution_count": 6,
   "metadata": {},
   "outputs": [],
   "source": [
    "pivoted = bordes_set.pivotData()\n",
    "pivot_json_data = bordes_set.toList(True)\n",
    "pivot_csv_data = bordes_set.toCSV(True)\n",
    "bordes_set.saveData(\"tmp/288_short_boundaries_pivot.csv\",pivot=True)\n",
    "bordes_set.saveData(\"tmp/288_short_boundaries_pivot.json\",format=\"json\",pivot=True)"
   ]
  },
  {
   "cell_type": "markdown",
   "metadata": {},
   "source": [
    "#### upload results"
   ]
  },
  {
   "cell_type": "code",
   "execution_count": 7,
   "metadata": {},
   "outputs": [
    {
     "name": "stdout",
     "output_type": "stream",
     "text": [
      "Warning: missing output_series_id for boundary #4, skipping upload\n"
     ]
    },
    {
     "data": {
      "text/plain": [
       "11360"
      ]
     },
     "execution_count": 7,
     "metadata": {},
     "output_type": "execute_result"
    }
   ],
   "source": [
    "uploaded = bordes_set.uploadData()\n",
    "len(uploaded)"
   ]
  }
 ],
 "metadata": {
  "kernelspec": {
   "display_name": "Python 3.8.10 64-bit",
   "language": "python",
   "name": "python3"
  },
  "language_info": {
   "codemirror_mode": {
    "name": "ipython",
    "version": 3
   },
   "file_extension": ".py",
   "mimetype": "text/x-python",
   "name": "python",
   "nbconvert_exporter": "python",
   "pygments_lexer": "ipython3",
   "version": "3.8.10"
  },
  "orig_nbformat": 4,
  "vscode": {
   "interpreter": {
    "hash": "31f2aee4e71d21fbe5cf8b01ff0e069b9275f58929596ceb00d14d90e3e16cd6"
   }
  }
 },
 "nbformat": 4,
 "nbformat_minor": 2
}
