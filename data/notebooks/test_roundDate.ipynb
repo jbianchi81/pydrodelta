{
 "cells": [
  {
   "cell_type": "code",
   "execution_count": 1,
   "metadata": {},
   "outputs": [],
   "source": [
    "import pydrodelta.util as util\n",
    "from datetime import timedelta, datetime"
   ]
  },
  {
   "cell_type": "code",
   "execution_count": 2,
   "metadata": {},
   "outputs": [
    {
     "data": {
      "text/plain": [
       "datetime.datetime(2022, 7, 12, 19, 0)"
      ]
     },
     "execution_count": 2,
     "metadata": {},
     "output_type": "execute_result"
    }
   ],
   "source": [
    "# next hour\n",
    "util.roundDate(datetime.now(),timedelta(seconds=3600),to=\"up\")"
   ]
  },
  {
   "cell_type": "code",
   "execution_count": 3,
   "metadata": {},
   "outputs": [
    {
     "data": {
      "text/plain": [
       "datetime.datetime(2022, 7, 12, 18, 0)"
      ]
     },
     "execution_count": 3,
     "metadata": {},
     "output_type": "execute_result"
    }
   ],
   "source": [
    "#prev hour\n",
    "util.roundDate(datetime.now(),timedelta(seconds=3600),to=\"down\")"
   ]
  },
  {
   "cell_type": "code",
   "execution_count": 4,
   "metadata": {},
   "outputs": [
    {
     "data": {
      "text/plain": [
       "datetime.datetime(2022, 7, 12, 18, 50)"
      ]
     },
     "execution_count": 4,
     "metadata": {},
     "output_type": "execute_result"
    }
   ],
   "source": [
    "#next 5 minute\n",
    "util.roundDate(datetime.now(),timedelta(seconds=5*60),to=\"up\")"
   ]
  },
  {
   "cell_type": "code",
   "execution_count": 5,
   "metadata": {},
   "outputs": [
    {
     "data": {
      "text/plain": [
       "datetime.datetime(2022, 7, 12, 18, 45)"
      ]
     },
     "execution_count": 5,
     "metadata": {},
     "output_type": "execute_result"
    }
   ],
   "source": [
    "#prev 5 minute\n",
    "util.roundDate(datetime.now(),timedelta(seconds=5*60),to=\"down\")"
   ]
  },
  {
   "cell_type": "code",
   "execution_count": 6,
   "metadata": {},
   "outputs": [
    {
     "data": {
      "text/plain": [
       "datetime.datetime(2022, 7, 12, 18, 48, 45)"
      ]
     },
     "execution_count": 6,
     "metadata": {},
     "output_type": "execute_result"
    }
   ],
   "source": [
    "#next 15 second\n",
    "util.roundDate(datetime.now(),timedelta(seconds=15),to=\"up\")"
   ]
  },
  {
   "cell_type": "code",
   "execution_count": 11,
   "metadata": {},
   "outputs": [
    {
     "name": "stdout",
     "output_type": "stream",
     "text": [
      "2022-07-12 18:50:16.319567 2022-07-12 18:50:15\n"
     ]
    }
   ],
   "source": [
    "#prev 15 second\n",
    "now = datetime.now()\n",
    "round = util.roundDate(now,timedelta(seconds=15),to=\"down\")\n",
    "print(now, round)"
   ]
  },
  {
   "cell_type": "code",
   "execution_count": 13,
   "metadata": {},
   "outputs": [
    {
     "name": "stdout",
     "output_type": "stream",
     "text": [
      "2022-07-12 18:50:58.204972 2022-07-12 18:50:59\n"
     ]
    }
   ],
   "source": [
    "#next second\n",
    "now = datetime.now()\n",
    "round = util.roundDate(now,timedelta(seconds=1),to=\"up\")\n",
    "print(now, round)"
   ]
  },
  {
   "cell_type": "code",
   "execution_count": 15,
   "metadata": {},
   "outputs": [
    {
     "name": "stdout",
     "output_type": "stream",
     "text": [
      "2022-07-12 18:52:22.044966 2022-07-12 18:00:00\n"
     ]
    }
   ],
   "source": [
    "#prev 3 hour with offset\n",
    "now = datetime.now()\n",
    "round = util.roundDate(now,timedelta(hours=3),timeOffset=timedelta(hours=9),to=\"down\")\n",
    "print(now, round)"
   ]
  },
  {
   "cell_type": "code",
   "execution_count": 16,
   "metadata": {},
   "outputs": [
    {
     "name": "stdout",
     "output_type": "stream",
     "text": [
      "2022-07-12 18:53:07.833872 2022-07-12 21:00:00\n"
     ]
    }
   ],
   "source": [
    "#next 3 hour with offset\n",
    "now = datetime.now()\n",
    "round = util.roundDate(now,timedelta(hours=3),timeOffset=timedelta(hours=9),to=\"up\")\n",
    "print(now, round)"
   ]
  },
  {
   "cell_type": "code",
   "execution_count": 17,
   "metadata": {},
   "outputs": [
    {
     "name": "stdout",
     "output_type": "stream",
     "text": [
      "2022-07-12 18:54:26.632920 2022-07-13 09:00:00\n"
     ]
    }
   ],
   "source": [
    "#next day with offset\n",
    "now = datetime.now()\n",
    "round = util.roundDate(now,timedelta(days=1),timeOffset=timedelta(hours=9),to=\"up\")\n",
    "print(now, round)"
   ]
  },
  {
   "cell_type": "code",
   "execution_count": 19,
   "metadata": {},
   "outputs": [
    {
     "name": "stdout",
     "output_type": "stream",
     "text": [
      "2022-07-12 03:00:00 2022-07-12 09:00:00\n"
     ]
    }
   ],
   "source": [
    "#next day with offset, before offset\n",
    "now = datetime(2022,7,12,3)\n",
    "round = util.roundDate(now,timedelta(days=1),timeOffset=timedelta(hours=9),to=\"up\")\n",
    "print(now, round)"
   ]
  },
  {
   "cell_type": "code",
   "execution_count": 20,
   "metadata": {},
   "outputs": [
    {
     "name": "stdout",
     "output_type": "stream",
     "text": [
      "2022-07-12 03:00:00 2022-07-11 09:00:00\n"
     ]
    }
   ],
   "source": [
    "#prev day with offset, before offset\n",
    "now = datetime(2022,7,12,3)\n",
    "round = util.roundDate(now,timedelta(days=1),timeOffset=timedelta(hours=9),to=\"down\")\n",
    "print(now, round)"
   ]
  },
  {
   "cell_type": "code",
   "execution_count": 21,
   "metadata": {},
   "outputs": [
    {
     "name": "stdout",
     "output_type": "stream",
     "text": [
      "2022-07-12 03:00:00 2022-07-12 09:00:00\n"
     ]
    }
   ],
   "source": [
    "#next hour with offset, before offset\n",
    "now = datetime(2022,7,12,3)\n",
    "round = util.roundDate(now,timedelta(hours=1),timeOffset=timedelta(hours=9),to=\"up\")\n",
    "print(now, round)\n",
    "# Unlikely scenario!\n",
    "# Doesn't work!"
   ]
  }
 ],
 "metadata": {
  "kernelspec": {
   "display_name": "Python 3.8.10 64-bit",
   "language": "python",
   "name": "python3"
  },
  "language_info": {
   "codemirror_mode": {
    "name": "ipython",
    "version": 3
   },
   "file_extension": ".py",
   "mimetype": "text/x-python",
   "name": "python",
   "nbconvert_exporter": "python",
   "pygments_lexer": "ipython3",
   "version": "3.8.10"
  },
  "orig_nbformat": 4,
  "vscode": {
   "interpreter": {
    "hash": "31f2aee4e71d21fbe5cf8b01ff0e069b9275f58929596ceb00d14d90e3e16cd6"
   }
  }
 },
 "nbformat": 4,
 "nbformat_minor": 2
}
