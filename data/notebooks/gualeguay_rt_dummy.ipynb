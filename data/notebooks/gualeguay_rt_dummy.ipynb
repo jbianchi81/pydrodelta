{
 "cells": [
  {
   "cell_type": "markdown",
   "metadata": {},
   "source": [
    "## test pydrodelta.simulation module\n",
    "\n",
    "### 1. set environment and load module"
   ]
  },
  {
   "cell_type": "code",
   "execution_count": 5,
   "metadata": {},
   "outputs": [],
   "source": [
    "os.environ[\"PYDRODELTA_DIR\"] = \"%s/git_clones/pydrodelta\" % os.environ[\"HOME\"]\n",
    "os.chdir(\"%s/%s\" % (os.environ[\"PYDRODELTA_DIR\"],\"src\"))"
   ]
  },
  {
   "cell_type": "code",
   "execution_count": 6,
   "metadata": {},
   "outputs": [],
   "source": [
    "import json\n",
    "import pydrodelta.simulation\n"
   ]
  },
  {
   "cell_type": "markdown",
   "metadata": {},
   "source": [
    "#### 2. load configuration"
   ]
  },
  {
   "cell_type": "code",
   "execution_count": 7,
   "metadata": {},
   "outputs": [],
   "source": [
    "plan_config = json.load(open(\"../data/plans/gualeguay_rt_dummy.json\"))"
   ]
  },
  {
   "cell_type": "markdown",
   "metadata": {},
   "source": [
    "#### 3. Instantiate plan object"
   ]
  },
  {
   "cell_type": "code",
   "execution_count": 8,
   "metadata": {},
   "outputs": [],
   "source": [
    "plan = pydrodelta.simulation.Plan(plan_config)"
   ]
  },
  {
   "cell_type": "markdown",
   "metadata": {},
   "source": [
    "#### 4. run preprocessing (analysis)"
   ]
  },
  {
   "cell_type": "code",
   "execution_count": 9,
   "metadata": {},
   "outputs": [],
   "source": [
    "plan.topology.batchProcessInput(include_prono=True)"
   ]
  },
  {
   "cell_type": "markdown",
   "metadata": {},
   "source": [
    "#### 5. load input (boundary conditions) to procedure"
   ]
  },
  {
   "cell_type": "code",
   "execution_count": 10,
   "metadata": {},
   "outputs": [
    {
     "data": {
      "text/html": [
       "<div>\n",
       "<style scoped>\n",
       "    .dataframe tbody tr th:only-of-type {\n",
       "        vertical-align: middle;\n",
       "    }\n",
       "\n",
       "    .dataframe tbody tr th {\n",
       "        vertical-align: top;\n",
       "    }\n",
       "\n",
       "    .dataframe thead th {\n",
       "        text-align: right;\n",
       "    }\n",
       "</style>\n",
       "<table border=\"1\" class=\"dataframe\">\n",
       "  <thead>\n",
       "    <tr style=\"text-align: right;\">\n",
       "      <th></th>\n",
       "      <th>1</th>\n",
       "      <th>2</th>\n",
       "      <th>3</th>\n",
       "      <th>4</th>\n",
       "    </tr>\n",
       "    <tr>\n",
       "      <th>timestart</th>\n",
       "      <th></th>\n",
       "      <th></th>\n",
       "      <th></th>\n",
       "      <th></th>\n",
       "    </tr>\n",
       "  </thead>\n",
       "  <tbody>\n",
       "    <tr>\n",
       "      <th>2022-05-20 09:00:00-03:00</th>\n",
       "      <td>0.01</td>\n",
       "      <td>1.3</td>\n",
       "      <td>0.25</td>\n",
       "      <td>30.212</td>\n",
       "    </tr>\n",
       "    <tr>\n",
       "      <th>2022-05-21 09:00:00-03:00</th>\n",
       "      <td>0.07</td>\n",
       "      <td>1.27</td>\n",
       "      <td>0.25</td>\n",
       "      <td>30.212</td>\n",
       "    </tr>\n",
       "    <tr>\n",
       "      <th>2022-05-22 09:00:00-03:00</th>\n",
       "      <td>0.0</td>\n",
       "      <td>1.25</td>\n",
       "      <td>0.25</td>\n",
       "      <td>30.574</td>\n",
       "    </tr>\n",
       "    <tr>\n",
       "      <th>2022-05-23 09:00:00-03:00</th>\n",
       "      <td>0.0</td>\n",
       "      <td>1.22</td>\n",
       "      <td>0.24</td>\n",
       "      <td>30.939</td>\n",
       "    </tr>\n",
       "    <tr>\n",
       "      <th>2022-05-24 09:00:00-03:00</th>\n",
       "      <td>13.23</td>\n",
       "      <td>1.2</td>\n",
       "      <td>0.27</td>\n",
       "      <td>30.939</td>\n",
       "    </tr>\n",
       "    <tr>\n",
       "      <th>...</th>\n",
       "      <td>...</td>\n",
       "      <td>...</td>\n",
       "      <td>...</td>\n",
       "      <td>...</td>\n",
       "    </tr>\n",
       "    <tr>\n",
       "      <th>2022-08-21 09:00:00-03:00</th>\n",
       "      <td>0.0</td>\n",
       "      <td>0.98</td>\n",
       "      <td>None</td>\n",
       "      <td>None</td>\n",
       "    </tr>\n",
       "    <tr>\n",
       "      <th>2022-08-22 09:00:00-03:00</th>\n",
       "      <td>0.0</td>\n",
       "      <td>1.0</td>\n",
       "      <td>None</td>\n",
       "      <td>None</td>\n",
       "    </tr>\n",
       "    <tr>\n",
       "      <th>2022-08-23 09:00:00-03:00</th>\n",
       "      <td>0.0</td>\n",
       "      <td>1.02</td>\n",
       "      <td>None</td>\n",
       "      <td>None</td>\n",
       "    </tr>\n",
       "    <tr>\n",
       "      <th>2022-08-24 09:00:00-03:00</th>\n",
       "      <td>5.85</td>\n",
       "      <td>1.05</td>\n",
       "      <td>None</td>\n",
       "      <td>None</td>\n",
       "    </tr>\n",
       "    <tr>\n",
       "      <th>2022-08-25 09:00:00-03:00</th>\n",
       "      <td>None</td>\n",
       "      <td>None</td>\n",
       "      <td>None</td>\n",
       "      <td>None</td>\n",
       "    </tr>\n",
       "  </tbody>\n",
       "</table>\n",
       "<p>98 rows × 4 columns</p>\n",
       "</div>"
      ],
      "text/plain": [
       "                               1     2     3       4\n",
       "timestart                                           \n",
       "2022-05-20 09:00:00-03:00   0.01   1.3  0.25  30.212\n",
       "2022-05-21 09:00:00-03:00   0.07  1.27  0.25  30.212\n",
       "2022-05-22 09:00:00-03:00    0.0  1.25  0.25  30.574\n",
       "2022-05-23 09:00:00-03:00    0.0  1.22  0.24  30.939\n",
       "2022-05-24 09:00:00-03:00  13.23   1.2  0.27  30.939\n",
       "...                          ...   ...   ...     ...\n",
       "2022-08-21 09:00:00-03:00    0.0  0.98  None    None\n",
       "2022-08-22 09:00:00-03:00    0.0   1.0  None    None\n",
       "2022-08-23 09:00:00-03:00    0.0  1.02  None    None\n",
       "2022-08-24 09:00:00-03:00   5.85  1.05  None    None\n",
       "2022-08-25 09:00:00-03:00   None  None  None    None\n",
       "\n",
       "[98 rows x 4 columns]"
      ]
     },
     "execution_count": 10,
     "metadata": {},
     "output_type": "execute_result"
    }
   ],
   "source": [
    "procedure = plan.procedures[0] # <- select first procedure\n",
    "procedure.loadInput()\n",
    "procedure.input"
   ]
  },
  {
   "cell_type": "markdown",
   "metadata": {},
   "source": [
    "#### 6. run procedure (dummy)"
   ]
  },
  {
   "cell_type": "code",
   "execution_count": 11,
   "metadata": {},
   "outputs": [],
   "source": [
    "procedure.run()"
   ]
  },
  {
   "cell_type": "markdown",
   "metadata": {},
   "source": [
    "El resultado de .run() se guarda en .output (en forma de un dataframe pivoteado). Luego con .outputToNodes() cada serie de output se guarda en el nodo correspondiente (en node.series_sim[0..n].data) "
   ]
  },
  {
   "cell_type": "code",
   "execution_count": 12,
   "metadata": {},
   "outputs": [
    {
     "data": {
      "text/html": [
       "<div>\n",
       "<style scoped>\n",
       "    .dataframe tbody tr th:only-of-type {\n",
       "        vertical-align: middle;\n",
       "    }\n",
       "\n",
       "    .dataframe tbody tr th {\n",
       "        vertical-align: top;\n",
       "    }\n",
       "\n",
       "    .dataframe thead th {\n",
       "        text-align: right;\n",
       "    }\n",
       "</style>\n",
       "<table border=\"1\" class=\"dataframe\">\n",
       "  <thead>\n",
       "    <tr style=\"text-align: right;\">\n",
       "      <th></th>\n",
       "      <th>4</th>\n",
       "    </tr>\n",
       "    <tr>\n",
       "      <th>timestart</th>\n",
       "      <th></th>\n",
       "    </tr>\n",
       "  </thead>\n",
       "  <tbody>\n",
       "    <tr>\n",
       "      <th>2022-05-20 09:00:00-03:00</th>\n",
       "      <td>30.212</td>\n",
       "    </tr>\n",
       "    <tr>\n",
       "      <th>2022-05-21 09:00:00-03:00</th>\n",
       "      <td>30.212</td>\n",
       "    </tr>\n",
       "    <tr>\n",
       "      <th>2022-05-22 09:00:00-03:00</th>\n",
       "      <td>30.574</td>\n",
       "    </tr>\n",
       "    <tr>\n",
       "      <th>2022-05-23 09:00:00-03:00</th>\n",
       "      <td>30.939</td>\n",
       "    </tr>\n",
       "    <tr>\n",
       "      <th>2022-05-24 09:00:00-03:00</th>\n",
       "      <td>30.939</td>\n",
       "    </tr>\n",
       "    <tr>\n",
       "      <th>...</th>\n",
       "      <td>...</td>\n",
       "    </tr>\n",
       "    <tr>\n",
       "      <th>2022-08-21 09:00:00-03:00</th>\n",
       "      <td>None</td>\n",
       "    </tr>\n",
       "    <tr>\n",
       "      <th>2022-08-22 09:00:00-03:00</th>\n",
       "      <td>None</td>\n",
       "    </tr>\n",
       "    <tr>\n",
       "      <th>2022-08-23 09:00:00-03:00</th>\n",
       "      <td>None</td>\n",
       "    </tr>\n",
       "    <tr>\n",
       "      <th>2022-08-24 09:00:00-03:00</th>\n",
       "      <td>None</td>\n",
       "    </tr>\n",
       "    <tr>\n",
       "      <th>2022-08-25 09:00:00-03:00</th>\n",
       "      <td>None</td>\n",
       "    </tr>\n",
       "  </tbody>\n",
       "</table>\n",
       "<p>98 rows × 1 columns</p>\n",
       "</div>"
      ],
      "text/plain": [
       "                                4\n",
       "timestart                        \n",
       "2022-05-20 09:00:00-03:00  30.212\n",
       "2022-05-21 09:00:00-03:00  30.212\n",
       "2022-05-22 09:00:00-03:00  30.574\n",
       "2022-05-23 09:00:00-03:00  30.939\n",
       "2022-05-24 09:00:00-03:00  30.939\n",
       "...                           ...\n",
       "2022-08-21 09:00:00-03:00    None\n",
       "2022-08-22 09:00:00-03:00    None\n",
       "2022-08-23 09:00:00-03:00    None\n",
       "2022-08-24 09:00:00-03:00    None\n",
       "2022-08-25 09:00:00-03:00    None\n",
       "\n",
       "[98 rows x 1 columns]"
      ]
     },
     "execution_count": 12,
     "metadata": {},
     "output_type": "execute_result"
    }
   ],
   "source": [
    "procedure.output"
   ]
  },
  {
   "cell_type": "code",
   "execution_count": 13,
   "metadata": {},
   "outputs": [],
   "source": [
    "procedure.outputToNodes()"
   ]
  },
  {
   "cell_type": "code",
   "execution_count": 18,
   "metadata": {},
   "outputs": [
    {
     "data": {
      "text/html": [
       "<div>\n",
       "<style scoped>\n",
       "    .dataframe tbody tr th:only-of-type {\n",
       "        vertical-align: middle;\n",
       "    }\n",
       "\n",
       "    .dataframe tbody tr th {\n",
       "        vertical-align: top;\n",
       "    }\n",
       "\n",
       "    .dataframe thead th {\n",
       "        text-align: right;\n",
       "    }\n",
       "</style>\n",
       "<table border=\"1\" class=\"dataframe\">\n",
       "  <thead>\n",
       "    <tr style=\"text-align: right;\">\n",
       "      <th></th>\n",
       "      <th>valor</th>\n",
       "      <th>tag</th>\n",
       "    </tr>\n",
       "    <tr>\n",
       "      <th>timestart</th>\n",
       "      <th></th>\n",
       "      <th></th>\n",
       "    </tr>\n",
       "  </thead>\n",
       "  <tbody>\n",
       "    <tr>\n",
       "      <th>2022-05-20 09:00:00-03:00</th>\n",
       "      <td>30.212</td>\n",
       "      <td>1</td>\n",
       "    </tr>\n",
       "    <tr>\n",
       "      <th>2022-05-21 09:00:00-03:00</th>\n",
       "      <td>30.212</td>\n",
       "      <td>1</td>\n",
       "    </tr>\n",
       "    <tr>\n",
       "      <th>2022-05-22 09:00:00-03:00</th>\n",
       "      <td>30.574</td>\n",
       "      <td>1</td>\n",
       "    </tr>\n",
       "    <tr>\n",
       "      <th>2022-05-23 09:00:00-03:00</th>\n",
       "      <td>30.939</td>\n",
       "      <td>1</td>\n",
       "    </tr>\n",
       "    <tr>\n",
       "      <th>2022-05-24 09:00:00-03:00</th>\n",
       "      <td>30.939</td>\n",
       "      <td>1</td>\n",
       "    </tr>\n",
       "    <tr>\n",
       "      <th>...</th>\n",
       "      <td>...</td>\n",
       "      <td>...</td>\n",
       "    </tr>\n",
       "    <tr>\n",
       "      <th>2022-08-21 09:00:00-03:00</th>\n",
       "      <td>None</td>\n",
       "      <td>1</td>\n",
       "    </tr>\n",
       "    <tr>\n",
       "      <th>2022-08-22 09:00:00-03:00</th>\n",
       "      <td>None</td>\n",
       "      <td>1</td>\n",
       "    </tr>\n",
       "    <tr>\n",
       "      <th>2022-08-23 09:00:00-03:00</th>\n",
       "      <td>None</td>\n",
       "      <td>1</td>\n",
       "    </tr>\n",
       "    <tr>\n",
       "      <th>2022-08-24 09:00:00-03:00</th>\n",
       "      <td>None</td>\n",
       "      <td>1</td>\n",
       "    </tr>\n",
       "    <tr>\n",
       "      <th>2022-08-25 09:00:00-03:00</th>\n",
       "      <td>None</td>\n",
       "      <td>1</td>\n",
       "    </tr>\n",
       "  </tbody>\n",
       "</table>\n",
       "<p>98 rows × 2 columns</p>\n",
       "</div>"
      ],
      "text/plain": [
       "                            valor  tag\n",
       "timestart                             \n",
       "2022-05-20 09:00:00-03:00  30.212    1\n",
       "2022-05-21 09:00:00-03:00  30.212    1\n",
       "2022-05-22 09:00:00-03:00  30.574    1\n",
       "2022-05-23 09:00:00-03:00  30.939    1\n",
       "2022-05-24 09:00:00-03:00  30.939    1\n",
       "...                           ...  ...\n",
       "2022-08-21 09:00:00-03:00    None    1\n",
       "2022-08-22 09:00:00-03:00    None    1\n",
       "2022-08-23 09:00:00-03:00    None    1\n",
       "2022-08-24 09:00:00-03:00    None    1\n",
       "2022-08-25 09:00:00-03:00    None    1\n",
       "\n",
       "[98 rows x 2 columns]"
      ]
     },
     "execution_count": 18,
     "metadata": {},
     "output_type": "execute_result"
    }
   ],
   "source": [
    "plan.topology.nodes[3].series_sim[0].data"
   ]
  },
  {
   "cell_type": "markdown",
   "metadata": {},
   "source": [
    "### 7. Plan auto-run (run instead of 4 to 6) \n",
    "\n",
    "Runs plan.topology.batchProcessInput() and [procedure.run() for procedure in plan.procedure]"
   ]
  },
  {
   "cell_type": "code",
   "execution_count": 5,
   "metadata": {},
   "outputs": [],
   "source": [
    "plan.execute()"
   ]
  }
 ],
 "metadata": {
  "kernelspec": {
   "display_name": "Python 3.8.10 ('myenv': venv)",
   "language": "python",
   "name": "python3"
  },
  "language_info": {
   "codemirror_mode": {
    "name": "ipython",
    "version": 3
   },
   "file_extension": ".py",
   "mimetype": "text/x-python",
   "name": "python",
   "nbconvert_exporter": "python",
   "pygments_lexer": "ipython3",
   "version": "3.8.10"
  },
  "orig_nbformat": 4,
  "vscode": {
   "interpreter": {
    "hash": "11605e621cc79954c9a4dc969e27567bf54617edb575775b4ccf96c7ebdfaf7e"
   }
  }
 },
 "nbformat": 4,
 "nbformat_minor": 2
}
