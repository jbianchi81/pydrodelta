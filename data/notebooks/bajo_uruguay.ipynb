{
 "cells": [
  {
   "cell_type": "code",
   "execution_count": null,
   "metadata": {},
   "outputs": [],
   "source": [
    "### test analysis module\n",
    "import pydrodelta.analysis \n",
    "import json\n",
    "import matplotlib.pyplot as plt\n"
   ]
  },
  {
   "cell_type": "code",
   "execution_count": null,
   "metadata": {},
   "outputs": [],
   "source": [
    "#### load configuration\n",
    "bordes_config = json.load(open(\"pydrodelta_config/bajo_uruguay.json\"))\n"
   ]
  },
  {
   "cell_type": "code",
   "execution_count": null,
   "metadata": {},
   "outputs": [],
   "source": [
    "#### validate configuration\n",
    "import jsonschema\n",
    "schema = open(\"schemas/topology.json\")\n",
    "schema = json.load(schema)\n"
   ]
  },
  {
   "cell_type": "code",
   "execution_count": null,
   "metadata": {},
   "outputs": [],
   "source": [
    "try:\n",
    "    jsonschema.validate(instance=bordes_config,schema=schema)\n",
    "except jsonschema.exceptions.ValidationError as err:\n",
    "    print(err)\n",
    "print(\"Given JSON data is Valid\")\n",
    "#### instantiate boundarySet class from config file (.xml)\n",
    "topology = pydrodelta.analysis.Topology(bordes_config)\n",
    "topology\n"
   ]
  },
  {
   "cell_type": "code",
   "execution_count": null,
   "metadata": {},
   "outputs": [],
   "source": [
    "#### load data\n",
    "topology.loadData()\n",
    "### sanitize timeseries\n",
    "topology.removeOutliers()\n",
    "topology.detectJumps()\n"
   ]
  },
  {
   "cell_type": "code",
   "execution_count": null,
   "metadata": {},
   "outputs": [],
   "source": [
    "topology.regularize()\n"
   ]
  },
  {
   "cell_type": "code",
   "execution_count": null,
   "metadata": {},
   "outputs": [],
   "source": [
    "topology.applyMovingAverage()\n",
    "topology.applyOffset()\n"
   ]
  },
  {
   "cell_type": "code",
   "execution_count": null,
   "metadata": {},
   "outputs": [],
   "source": [
    "#### adjust\n",
    "topology.adjust()"
   ]
  },
  {
   "cell_type": "code",
   "execution_count": null,
   "metadata": {},
   "outputs": [],
   "source": [
    "topology.fillNulls()"
   ]
  },
  {
   "cell_type": "code",
   "execution_count": null,
   "metadata": {},
   "outputs": [],
   "source": [
    "topology.concatenateProno()"
   ]
  },
  {
   "cell_type": "code",
   "execution_count": null,
   "metadata": {},
   "outputs": [],
   "source": [
    "from datetime import timedelta\n",
    "topology.interpolate(timedelta(days=1))"
   ]
  },
  {
   "cell_type": "code",
   "execution_count": null,
   "metadata": {},
   "outputs": [],
   "source": [
    "topology.saveData(\"tmp/bajo_uruguay.csv\",pivot=True)"
   ]
  },
  {
   "cell_type": "code",
   "execution_count": null,
   "metadata": {},
   "outputs": [],
   "source": [
    "from datetime import timedelta\n",
    "topology.nodes[0].interpolate(limit=timedelta(hours=24))\n"
   ]
  },
  {
   "cell_type": "code",
   "execution_count": null,
   "metadata": {},
   "outputs": [],
   "source": [
    "node = topology.nodes[0]\n",
    "from datetime import timedelta\n",
    "node.interpolate(limit=timedelta(hours=12))\n"
   ]
  },
  {
   "cell_type": "code",
   "execution_count": null,
   "metadata": {},
   "outputs": [],
   "source": [
    "data = topology.nodes[1].data\n",
    "data[\"valor\"]\n"
   ]
  },
  {
   "cell_type": "code",
   "execution_count": null,
   "metadata": {},
   "outputs": [],
   "source": [
    "data = topology.nodes[0].series[0].data\n",
    "data[\"valor\"]\n"
   ]
  },
  {
   "cell_type": "code",
   "execution_count": null,
   "metadata": {},
   "outputs": [],
   "source": [
    "import pandas\n",
    "topology.nodes[0].data[~pandas.isna(topology.nodes[0].data[\"valor\"])].index.max()"
   ]
  },
  {
   "cell_type": "code",
   "execution_count": null,
   "metadata": {},
   "outputs": [],
   "source": [
    "import pydrodelta.util as util\n",
    "# int_data = util.interpolateData(data,interpolation_limit=12,tag_column=\"tag\")\n",
    "data[\"interpolated\"] = data[\"valor\"].interpolate(method='time',limit=48,limit_direction='both',limit_area='inside')"
   ]
  },
  {
   "cell_type": "code",
   "execution_count": null,
   "metadata": {},
   "outputs": [],
   "source": []
  },
  {
   "cell_type": "code",
   "execution_count": null,
   "metadata": {},
   "outputs": [],
   "source": [
    "data[\"timestart\"] = data.index"
   ]
  },
  {
   "cell_type": "code",
   "execution_count": null,
   "metadata": {},
   "outputs": [],
   "source": [
    "data[\"timestart\"].diff()"
   ]
  },
  {
   "cell_type": "code",
   "execution_count": null,
   "metadata": {},
   "outputs": [],
   "source": []
  },
  {
   "cell_type": "code",
   "execution_count": null,
   "metadata": {},
   "outputs": [],
   "source": [
    "import pandas\n",
    "from datetime import timedelta\n",
    "\n",
    "node = topology.nodes[1]\n",
    "node.time_interval = timedelta(hours=1)\n",
    "data = node.data\n",
    "# regular = topology.nodes[1].regularize()\n",
    "data = data.reset_index()\n",
    "\n",
    "data = data[data[\"timestart\"].dt.hour % 6 == 0][data[\"timestart\"].dt.minute==0]\n",
    "data[\"timestart\"] = data[\"timestart\"].map(lambda x: x + timedelta(minutes=-15))\n",
    "data = data.set_index(\"timestart\")\n"
   ]
  },
  {
   "cell_type": "code",
   "execution_count": null,
   "metadata": {},
   "outputs": [],
   "source": [
    "regular_index = node.createDatetimeIndex()\n",
    "regular_data = pandas.DataFrame(index=regular_index)\n",
    "regular_data.index.rename(\"timestart\",True)\n",
    "time_interval = node.time_interval / 2 # takes half time interval as maximum time distance for interpolation\n",
    "jdata = regular_data.join(data,how=\"outer\")\n",
    "jdata = jdata.reset_index()\n",
    "jdata[\"diff_with_previous\"] = jdata[\"timestart\"].diff()\n",
    "jdata[\"diff_with_next\"] = jdata[\"timestart\"].diff(periods=-1)\n",
    "jdata = jdata.set_index(\"timestart\")\n",
    "jdata[\"interpolated_backward\"] = jdata[\"valor\"].interpolate(method='time',limit=1,limit_direction='backward',limit_area=None)\n",
    "jdata[\"interpolated_forward\"] = jdata[\"valor\"].interpolate(method='time',limit=1,limit_direction='forward',limit_area=None)\n",
    "jdata[\"interpolated_backward_filtered\"] = [ x.valor if -x[\"diff_with_next\"] > time_interval else x.interpolated_backward for (i,x) in jdata.iterrows()]\n",
    "jdata[\"interpolated_forward_filtered\"] = [ x.valor if x[\"diff_with_previous\"] > time_interval else x.interpolated_forward for (i,x) in jdata.iterrows()]\n",
    "jdata[\"interpolated_final\"] = [x.interpolated_backward_filtered if pandas.isna(x.interpolated_forward_filtered) else x.interpolated_forward_filtered for (i,x) in jdata.iterrows()]\n",
    "jdata[\"new_tag\"] = [x.tag if pandas.isna(x.interpolated_final) else \"interpolated\" if pandas.isna(x.valor) else x.tag for (i,x) in jdata.iterrows()]\n",
    "regular_data = regular_data.join(jdata[[\"interpolated_final\",\"new_tag\"]].rename(columns={\"interpolated_final\":\"valor\",\"new_tag\":\"tag\"}), how = 'left')"
   ]
  },
  {
   "cell_type": "code",
   "execution_count": null,
   "metadata": {},
   "outputs": [],
   "source": [
    "import pydrodelta.util as util\n",
    "import pandas\n"
   ]
  },
  {
   "cell_type": "code",
   "execution_count": null,
   "metadata": {},
   "outputs": [],
   "source": [
    "node = topology.nodes[0]\n",
    "serie = node.series[0]\n",
    "data = serie.data\n",
    "column=\"valor\"\n",
    "tag_column=\"tag\"\n",
    "df_regular = pandas.DataFrame(index = util.createDatetimeSequence(data.index, node.time_interval, topology.timestart, topology.timeend, topology.time_offset))\n",
    "df_regular.index.rename('timestart', inplace=True)\t \n",
    "df_join = df_regular.join(data, how = 'outer')\n"
   ]
  },
  {
   "cell_type": "code",
   "execution_count": null,
   "metadata": {},
   "outputs": [],
   "source": [
    "def f1(row):\n",
    "    if -row[\"diff_with_next\"] > timedelta_threshold:\n",
    "        return row[column]\n",
    "    else:\n",
    "        return row[\"interpolated_backward\"]\n",
    "\n",
    "def f2(row):\n",
    "    if row[\"diff_with_previous\"] > timedelta_threshold:\n",
    "        return row[column]\n",
    "    else:\n",
    "        return row[\"interpolated_forward\"]\n",
    "\n",
    "def f3(row):\n",
    "    if pandas.isna(row[\"interpolated_forward_filtered\"]):\n",
    "        return row[\"interpolated_backward_filtered\"]\n",
    "    else:\n",
    "        return row[\"interpolated_forward_filtered\"]"
   ]
  },
  {
   "cell_type": "code",
   "execution_count": null,
   "metadata": {},
   "outputs": [],
   "source": [
    "    # if interpolate:\n",
    "    #     # Interpola\n",
    "    #     min_obs_date, max_obs_date = (df_join[~pandas.isna(df_join[column])].index.min(),df_join[~pandas.isna(df_join[column])].index.max())\n",
    "    #     df_join[\"interpolated\"] = df_join[column].interpolate(method='time',limit=interpolation_limit,limit_direction='both',limit_area=None if extrapolate else 'inside')\n",
    "    #     if tag_column is not None:\n",
    "    #         # print(\"columns: \" + df_join.columns)\n",
    "    #         df_join[tag_column] = [x[tag_column] if pandas.isna(x[\"interpolated\"]) else \"extrapolated\" if i < min_obs_date or i > max_obs_date else \"interpolated\" if pandas.isna(x[column]) else x[tag_column] for (i, x) in df_join.iterrows()]\n",
    "    #     df_join[column] = df_join[\"interpolated\"]\n",
    "    #     del df_join[\"interpolated\"]\n",
    "    #     df_regular = df_regular.join(df_join, how = 'left')\n",
    "    # else:\n",
    "timedelta_threshold = node.time_interval / 2 # takes half time interval as maximum time distance for interpolation\n",
    "df_join = df_join.reset_index()\n",
    "df_join[\"diff_with_previous\"] = df_join[\"timestart\"].diff()\n",
    "df_join[\"diff_with_next\"] = df_join[\"timestart\"].diff(periods=-1)\n",
    "df_join = df_join.set_index(\"timestart\")\n",
    "df_join[\"interpolated_backward\"] = df_join[column].interpolate(method='time',limit=1,limit_direction='backward',limit_area=None)\n",
    "df_join[\"interpolated_forward\"] = df_join[column].interpolate(method='time',limit=1,limit_direction='forward',limit_area=None)\n",
    "df_join[\"interpolated_backward_filtered\"] = df_join.apply(lambda row: f1(row),axis=1)\n",
    "df_join[\"interpolated_forward_filtered\"] = df_join.apply(lambda row: f2(row),axis=1) #[x[column] if x[\"diff_with_previous\"] > timedelta_threshold else x.interpolated_forward for (i,x) in df_join.iterrows()]\n",
    "df_join[\"interpolated_final\"] = df_join.apply(lambda row: f3(row),axis=1) # [x.interpolated_backward_filtered if pandas.isna(x.interpolated_forward_filtered) else x.interpolated_forward_filtered for (i,x) in df_join.iterrows()]\n"
   ]
  },
  {
   "cell_type": "code",
   "execution_count": null,
   "metadata": {},
   "outputs": [],
   "source": [
    "def findex(row):\n",
    "    return (row.name).isoformat()\n",
    "data.apply(lambda row: findex(row),axis=1)  "
   ]
  },
  {
   "cell_type": "code",
   "execution_count": null,
   "metadata": {},
   "outputs": [],
   "source": [
    "df_join[\"interpolated_backward_filtered\"] = df_join.apply(lambda row: f1(row), axis=1) "
   ]
  },
  {
   "cell_type": "code",
   "execution_count": null,
   "metadata": {},
   "outputs": [],
   "source": [
    "df_join[\"interpolated_final\"]"
   ]
  },
  {
   "cell_type": "code",
   "execution_count": null,
   "metadata": {},
   "outputs": [],
   "source": [
    "if tag_column is not None:\n",
    "    df_join[\"new_tag\"] = [x[tag_column] if pandas.isna(x.interpolated_final) else \"interpolated\" if pandas.isna(x.valor) else x[tag_column] for (i,x) in df_join.iterrows()]\n",
    "    df_regular = df_regular.join(df_join[[\"interpolated_final\",\"new_tag\"]].rename(columns={\"interpolated_final\":column,\"new_tag\":tag_column}), how = 'left')\n",
    "else:\n",
    "    df_regular = df_regular.join(df_join[[\"interpolated_final\",]].rename(columns={\"interpolated_final\":column}), how = 'left')\n",
    "# return df_regular"
   ]
  },
  {
   "cell_type": "code",
   "execution_count": null,
   "metadata": {},
   "outputs": [],
   "source": [
    "df_join[\"interpolated_forward_filtered\"]#[\"valor\"]#"
   ]
  }
 ],
 "metadata": {
  "kernelspec": {
   "display_name": "Python 3.8.10 ('myenv': venv)",
   "language": "python",
   "name": "python3"
  },
  "language_info": {
   "codemirror_mode": {
    "name": "ipython",
    "version": 3
   },
   "file_extension": ".py",
   "mimetype": "text/x-python",
   "name": "python",
   "nbconvert_exporter": "python",
   "pygments_lexer": "ipython3",
   "version": "3.8.10"
  },
  "orig_nbformat": 4,
  "vscode": {
   "interpreter": {
    "hash": "11605e621cc79954c9a4dc969e27567bf54617edb575775b4ccf96c7ebdfaf7e"
   }
  }
 },
 "nbformat": 4,
 "nbformat_minor": 2
}
