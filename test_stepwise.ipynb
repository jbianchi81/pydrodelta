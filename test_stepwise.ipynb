{
 "cells": [
  {
   "cell_type": "code",
   "execution_count": null,
   "metadata": {},
   "outputs": [],
   "source": [
    "### test analysis module\n",
    "os.getcwd()\n",
    "import pydrodelta.analysis \n",
    "import json\n",
    "import matplotlib.pyplot as plt\n"
   ]
  },
  {
   "cell_type": "code",
   "execution_count": null,
   "metadata": {},
   "outputs": [],
   "source": [
    "\n",
    "#### instantiate boundarySet class from config file (.xml)\n",
    "bordes_config = json.load(open(\"pydrodelta_config/288_short.json\"))\n",
    "bordes_set = pydrodelta.analysis.BoundarySet(bordes_config)\n",
    "bordes_set\n"
   ]
  },
  {
   "cell_type": "code",
   "execution_count": null,
   "metadata": {},
   "outputs": [],
   "source": [
    "#### load data\n",
    "bordes_set.loadData()\n",
    "print(len(bordes_set.boundaries))\n",
    "for boundary in bordes_set.boundaries:\n",
    "    print(len(boundary.series))\n",
    "    for serie in boundary.series:\n",
    "        print(len(serie.obs_df))\n"
   ]
  },
  {
   "cell_type": "code",
   "execution_count": null,
   "metadata": {},
   "outputs": [],
   "source": [
    "### sanitize timeseries\n",
    "bordes_set.removeOutliers()\n",
    "bordes_set.detectJumps()\n",
    "bordes_set.regularize()\n",
    "bordes_set.applyOffset()"
   ]
  },
  {
   "cell_type": "code",
   "execution_count": null,
   "metadata": {},
   "outputs": [],
   "source": [
    "\n",
    "bordes_set.fillNulls()\n"
   ]
  },
  {
   "cell_type": "code",
   "execution_count": null,
   "metadata": {},
   "outputs": [],
   "source": [
    "\n",
    "for borde in bordes_set.boundaries:\n",
    "    df = borde.series[0].obs_df.reset_index() # .plot(y=\"valor\")\n",
    "    df.plot(kind=\"scatter\",x=\"timestart\",y=\"valor\")\n",
    "plt.show()\n"
   ]
  },
  {
   "cell_type": "code",
   "execution_count": null,
   "metadata": {},
   "outputs": [],
   "source": [
    "#### output to file (csv and json)\n",
    "# csv = bordes_set.toCSV()\n",
    "bordes_set.saveData(\"tmp/bordes_288_short.csv\")\n",
    "bordes_set.saveData(\"tmp/bordes_288_short.json\",\"json\")\n"
   ]
  },
  {
   "cell_type": "code",
   "execution_count": null,
   "metadata": {},
   "outputs": [],
   "source": [
    "\n",
    "#### upload to a5\n",
    "#upload all\n",
    "bordes_set.uploadData()\n",
    "# upload only one boundary\n",
    "bordes_set.boundaries[2].uploadData()\n"
   ]
  }
 ],
 "metadata": {
  "language_info": {
   "name": "python"
  },
  "orig_nbformat": 4
 },
 "nbformat": 4,
 "nbformat_minor": 2
}
