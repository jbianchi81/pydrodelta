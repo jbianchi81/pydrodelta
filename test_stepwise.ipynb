{
 "cells": [
  {
   "cell_type": "code",
   "execution_count": 1,
   "metadata": {},
   "outputs": [],
   "source": [
    "### test analysis module\n",
    "os.getcwd()\n",
    "import pydrodelta.analysis \n",
    "import json\n",
    "import matplotlib.pyplot as plt\n"
   ]
  },
  {
   "cell_type": "code",
   "execution_count": 2,
   "metadata": {},
   "outputs": [
    {
     "data": {
      "text/plain": [
       "<pydrodelta.analysis.BoundarySet at 0x7fbf40462400>"
      ]
     },
     "execution_count": 2,
     "metadata": {},
     "output_type": "execute_result"
    }
   ],
   "source": [
    "\n",
    "#### instantiate boundarySet class from config file (.xml)\n",
    "bordes_config = json.load(open(\"pydrodelta_config/288_short.json\"))\n",
    "bordes_set = pydrodelta.analysis.BoundarySet(bordes_config)\n",
    "bordes_set\n"
   ]
  },
  {
   "cell_type": "code",
   "execution_count": 3,
   "metadata": {},
   "outputs": [
    {
     "name": "stdout",
     "output_type": "stream",
     "text": [
      "Given JSON data is Valid\n"
     ]
    }
   ],
   "source": [
    "#### validate configuration\n",
    "import jsonschema\n",
    "schema = open(\"schemas/boundary-set.json\")\n",
    "schema = json.load(schema)\n",
    "try:\n",
    "    jsonschema.validate(instance=bordes_config,schema=schema)\n",
    "except jsonschema.exceptions.ValidationError as err:\n",
    "    print(err)\n",
    "print(\"Given JSON data is Valid\")\n"
   ]
  },
  {
   "cell_type": "code",
   "execution_count": 4,
   "metadata": {},
   "outputs": [
    {
     "name": "stdout",
     "output_type": "stream",
     "text": [
      "Warning: no data found for series_id=31536\n"
     ]
    }
   ],
   "source": [
    "#### load data\n",
    "bordes_set.loadData()\n",
    "# print(len(bordes_set.boundaries))\n",
    "# for boundary in bordes_set.boundaries:\n",
    "#     if len(boundary.series):\n",
    "#         print(len(boundary.series))\n",
    "#         for serie in boundary.series:\n",
    "#             if len(serie.obs_df):\n",
    "#                 print(len(serie.obs_df))\n"
   ]
  },
  {
   "cell_type": "code",
   "execution_count": 5,
   "metadata": {},
   "outputs": [
    {
     "name": "stdout",
     "output_type": "stream",
     "text": [
      "Detecta Outliers:\n",
      "Limite superior 4.62\n",
      "Limite inferior -2.25\n",
      "Cantidad de outliers:  0\n",
      "Detecta Outliers:\n",
      "Limite superior 5.0\n",
      "Limite inferior -3.03\n",
      "Cantidad de outliers:  0\n",
      "Detecta Outliers:\n",
      "Limite superior 4.18\n",
      "Limite inferior -1.82\n",
      "Cantidad de outliers:  0\n",
      "Detecta Outliers:\n",
      "Limite superior 3.42\n",
      "Limite inferior -1.7\n",
      "Cantidad de outliers:  0\n",
      "Detecta Outliers:\n",
      "Limite superior 2.66\n",
      "Limite inferior -2.01\n",
      "Cantidad de outliers:  0\n",
      "Detecta Outliers:\n",
      "Limite superior 4.62\n",
      "Limite inferior -2.25\n",
      "Cantidad de outliers:  0\n",
      "Detecta Outliers:\n",
      "Limite superior 1000.0\n",
      "Limite inferior 0.0\n",
      "Cantidad de outliers:  0\n",
      "Detecta Outliers:\n",
      "Limite superior 10000.0\n",
      "Limite inferior 0.0\n",
      "Cantidad de outliers:  0\n",
      "Detecta Outliers:\n",
      "Limite superior 8.0\n",
      "Limite inferior -1.5\n",
      "Cantidad de outliers:  0\n",
      "Detecta Outliers:\n",
      "Limite superior 8.0\n",
      "Limite inferior -1.5\n",
      "Cantidad de outliers:  0\n",
      "Detecta Outliers:\n",
      "Limite superior 8.0\n",
      "Limite inferior -1.5\n",
      "Cantidad de outliers:  0\n",
      "Detecta Outliers:\n",
      "Limite superior 3.42\n",
      "Limite inferior -1.7\n",
      "Cantidad de outliers:  0\n",
      "Detecta Outliers:\n",
      "Limite superior 2.66\n",
      "Limite inferior -2.01\n",
      "Cantidad de outliers:  0\n",
      "Detecta Outliers:\n",
      "Limite superior 3.42\n",
      "Limite inferior -1.7\n",
      "Cantidad de outliers:  0\n",
      "Detecta Outliers:\n",
      "Limite superior 6000.0\n",
      "Limite inferior -0.0\n",
      "Cantidad de outliers:  0\n",
      "Detecta Outliers:\n",
      "Limite superior 6000.0\n",
      "Limite inferior -0.0\n",
      "Cantidad de outliers:  0\n",
      "Detecta Saltos:\n",
      "Limite Salto (m):  0.958\n",
      "Cantidad de Saltos 0\n",
      "Detecta Saltos:\n",
      "Limite Salto (m):  0.835\n",
      "Cantidad de Saltos 0\n",
      "Detecta Saltos:\n",
      "Limite Salto (m):  0.8\n",
      "Cantidad de Saltos 0\n",
      "Detecta Saltos:\n",
      "Limite Salto (m):  0.4\n",
      "Cantidad de Saltos 0\n",
      "Detecta Saltos:\n",
      "Limite Salto (m):  0.5\n",
      "Cantidad de Saltos 0\n",
      "Detecta Saltos:\n",
      "Limite Salto (m):  0.958\n",
      "Cantidad de Saltos 0\n",
      "Detecta Saltos:\n",
      "Limite Salto (m):  1000.0\n",
      "Cantidad de Saltos 0\n",
      "Detecta Saltos:\n",
      "Limite Salto (m):  1000.0\n",
      "Cantidad de Saltos 0\n",
      "Detecta Saltos:\n",
      "Limite Salto (m):  0.7\n",
      "Cantidad de Saltos 0\n",
      "Detecta Saltos:\n",
      "Limite Salto (m):  0.7\n",
      "Cantidad de Saltos 0\n",
      "Detecta Saltos:\n",
      "Limite Salto (m):  0.7\n",
      "Cantidad de Saltos 0\n",
      "Detecta Saltos:\n",
      "Limite Salto (m):  0.4\n",
      "Cantidad de Saltos 0\n",
      "Detecta Saltos:\n",
      "Limite Salto (m):  0.5\n",
      "Cantidad de Saltos 0\n",
      "Detecta Saltos:\n",
      "Limite Salto (m):  0.4\n",
      "Cantidad de Saltos 0\n",
      "Detecta Saltos:\n",
      "Limite Salto (m):  6000.0\n",
      "Cantidad de Saltos 0\n",
      "Detecta Saltos:\n",
      "Limite Salto (m):  6000.0\n",
      "Cantidad de Saltos 0\n"
     ]
    }
   ],
   "source": [
    "### sanitize timeseries\n",
    "bordes_set.removeOutliers()\n",
    "bordes_set.detectJumps()\n",
    "bordes_set.regularize()\n",
    "bordes_set.applyOffset()"
   ]
  },
  {
   "cell_type": "code",
   "execution_count": 6,
   "metadata": {},
   "outputs": [],
   "source": [
    "#### fill nulls\n",
    "bordes_set.fillNulls()\n"
   ]
  },
  {
   "cell_type": "code",
   "execution_count": 9,
   "metadata": {},
   "outputs": [
    {
     "ename": "TypeError",
     "evalue": "argument of type 'BoundarySerie' is not iterable",
     "output_type": "error",
     "traceback": [
      "\u001b[0;31m---------------------------------------------------------------------------\u001b[0m",
      "\u001b[0;31mTypeError\u001b[0m                                 Traceback (most recent call last)",
      "\u001b[1;32m/home/leyden/git_clones/pydrodelta/test_stepwise.ipynb Cell 7'\u001b[0m in \u001b[0;36m<cell line: 1>\u001b[0;34m()\u001b[0m\n\u001b[1;32m      <a href='vscode-notebook-cell:/home/leyden/git_clones/pydrodelta/test_stepwise.ipynb#ch0000005?line=0'>1</a>\u001b[0m \u001b[39mfor\u001b[39;00m borde \u001b[39min\u001b[39;00m bordes_set\u001b[39m.\u001b[39mboundaries:\n\u001b[0;32m----> <a href='vscode-notebook-cell:/home/leyden/git_clones/pydrodelta/test_stepwise.ipynb#ch0000005?line=1'>2</a>\u001b[0m     \u001b[39mif\u001b[39;00m \u001b[39m\"\u001b[39;49m\u001b[39mobs_df\u001b[39;49m\u001b[39m\"\u001b[39;49m \u001b[39min\u001b[39;49;00m borde\u001b[39m.\u001b[39;49mseries[\u001b[39m0\u001b[39;49m]:\n\u001b[1;32m      <a href='vscode-notebook-cell:/home/leyden/git_clones/pydrodelta/test_stepwise.ipynb#ch0000005?line=2'>3</a>\u001b[0m         df \u001b[39m=\u001b[39m borde\u001b[39m.\u001b[39mseries[\u001b[39m0\u001b[39m]\u001b[39m.\u001b[39mobs_df\u001b[39m.\u001b[39mreset_index() \u001b[39m# .plot(y=\"valor\")\u001b[39;00m\n\u001b[1;32m      <a href='vscode-notebook-cell:/home/leyden/git_clones/pydrodelta/test_stepwise.ipynb#ch0000005?line=3'>4</a>\u001b[0m         df\u001b[39m.\u001b[39mplot(kind\u001b[39m=\u001b[39m\u001b[39m\"\u001b[39m\u001b[39mscatter\u001b[39m\u001b[39m\"\u001b[39m,x\u001b[39m=\u001b[39m\u001b[39m\"\u001b[39m\u001b[39mtimestart\u001b[39m\u001b[39m\"\u001b[39m,y\u001b[39m=\u001b[39m\u001b[39m\"\u001b[39m\u001b[39mvalor\u001b[39m\u001b[39m\"\u001b[39m)\n",
      "\u001b[0;31mTypeError\u001b[0m: argument of type 'BoundarySerie' is not iterable"
     ]
    }
   ],
   "source": [
    "\n",
    "for borde in bordes_set.boundaries:\n",
    "    if hasattr(borde.series[0],\"obs_df\"):\n",
    "        df = borde.series[0].obs_df.reset_index() # .plot(y=\"valor\")\n",
    "        df.plot(kind=\"scatter\",x=\"timestart\",y=\"valor\")\n",
    "plt.show()\n"
   ]
  },
  {
   "cell_type": "code",
   "execution_count": null,
   "metadata": {},
   "outputs": [],
   "source": [
    "#### output to file (csv and json)\n",
    "# csv = bordes_set.toCSV()\n",
    "bordes_set.saveData(\"tmp/bordes_288_short.csv\")\n",
    "bordes_set.saveData(\"tmp/bordes_288_short.json\",\"json\")\n"
   ]
  },
  {
   "cell_type": "code",
   "execution_count": null,
   "metadata": {},
   "outputs": [],
   "source": [
    "\n",
    "#### upload to a5\n",
    "#upload all\n",
    "bordes_set.uploadData()\n",
    "# upload only one boundary\n",
    "bordes_set.boundaries[2].uploadData()\n"
   ]
  },
  {
   "cell_type": "code",
   "execution_count": 19,
   "metadata": {},
   "outputs": [
    {
     "data": {
      "text/plain": [
       "timestart\n",
       "2022-07-04 01:00:00-03:00    0.405873\n",
       "2022-07-04 02:00:00-03:00    0.374500\n",
       "2022-07-04 03:00:00-03:00    0.349103\n",
       "2022-07-04 04:00:00-03:00    0.327256\n",
       "2022-07-04 05:00:00-03:00    0.325014\n",
       "                               ...   \n",
       "2022-07-08 23:00:00-03:00    1.083150\n",
       "2022-07-09 00:00:00-03:00    1.047500\n",
       "2022-07-09 01:00:00-03:00    1.052560\n",
       "2022-07-09 02:00:00-03:00    1.031850\n",
       "2022-07-09 03:00:00-03:00    0.967449\n",
       "Name: valor, Length: 123, dtype: float64"
      ]
     },
     "execution_count": 19,
     "metadata": {},
     "output_type": "execute_result"
    }
   ],
   "source": [
    "df = bordes_set.boundaries[0].series[5].obs_df.astype(float)\n",
    "df[\"valor\"]"
   ]
  }
 ],
 "metadata": {
  "kernelspec": {
   "display_name": "Python 3.8.10 64-bit",
   "language": "python",
   "name": "python3"
  },
  "language_info": {
   "codemirror_mode": {
    "name": "ipython",
    "version": 3
   },
   "file_extension": ".py",
   "mimetype": "text/x-python",
   "name": "python",
   "nbconvert_exporter": "python",
   "pygments_lexer": "ipython3",
   "version": "3.8.10"
  },
  "orig_nbformat": 4,
  "vscode": {
   "interpreter": {
    "hash": "31f2aee4e71d21fbe5cf8b01ff0e069b9275f58929596ceb00d14d90e3e16cd6"
   }
  }
 },
 "nbformat": 4,
 "nbformat_minor": 2
}
